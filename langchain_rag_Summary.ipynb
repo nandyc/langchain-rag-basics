{
  "nbformat": 4,
  "nbformat_minor": 0,
  "metadata": {
    "colab": {
      "provenance": [],
      "include_colab_link": true
    },
    "kernelspec": {
      "name": "python3",
      "display_name": "Python 3"
    },
    "language_info": {
      "name": "python"
    }
  },
  "cells": [
    {
      "cell_type": "markdown",
      "metadata": {
        "id": "view-in-github",
        "colab_type": "text"
      },
      "source": [
        "<a href=\"https://colab.research.google.com/github/nandyc/langchain-rag-basics/blob/main/langchain_rag_Summary.ipynb\" target=\"_parent\"><img src=\"https://colab.research.google.com/assets/colab-badge.svg\" alt=\"Open In Colab\"/></a>"
      ]
    },
    {
      "cell_type": "code",
      "execution_count": 1,
      "metadata": {
        "colab": {
          "base_uri": "https://localhost:8080/"
        },
        "id": "saMdkS7iYMRf",
        "outputId": "cf777188-d2df-4ee5-cee3-f147328b0170"
      },
      "outputs": [
        {
          "output_type": "stream",
          "name": "stdout",
          "text": [
            "Cloning into 'langchain-rag-basics'...\n",
            "remote: Enumerating objects: 25, done.\u001b[K\n",
            "remote: Counting objects: 100% (25/25), done.\u001b[K\n",
            "remote: Compressing objects: 100% (24/24), done.\u001b[K\n",
            "remote: Total 25 (delta 8), reused 0 (delta 0), pack-reused 0 (from 0)\u001b[K\n",
            "Receiving objects: 100% (25/25), 179.55 KiB | 2.16 MiB/s, done.\n",
            "Resolving deltas: 100% (8/8), done.\n"
          ]
        }
      ],
      "source": [
        "!git clone https://github.com/nandyc/langchain-rag-basics.git"
      ]
    },
    {
      "cell_type": "code",
      "source": [
        "%cd langchain-rag-basics"
      ],
      "metadata": {
        "colab": {
          "base_uri": "https://localhost:8080/"
        },
        "id": "OtR0EjOFYhbE",
        "outputId": "dc548e2c-db8f-468c-ca05-3deec30d1e6d"
      },
      "execution_count": 2,
      "outputs": [
        {
          "output_type": "stream",
          "name": "stdout",
          "text": [
            "/content/langchain-rag-basics\n"
          ]
        }
      ]
    },
    {
      "cell_type": "code",
      "source": [
        "%%capture\n",
        "### Install required modules and set the envvar for Gemini API Key\n",
        "!pip install google.generativeai\n",
        "!pip install langchain-google-genai\n",
        "!pip install langchain\n",
        "!pip install langchain_community"
      ],
      "metadata": {
        "id": "UgS91MLAYxQf"
      },
      "execution_count": 3,
      "outputs": []
    },
    {
      "cell_type": "code",
      "source": [
        "#Import Modules\n",
        "from langchain_google_genai import ChatGoogleGenerativeAI\n",
        "from langchain_google_genai import GoogleGenerativeAIEmbeddings\n",
        "from langchain_community.document_loaders import WebBaseLoader\n",
        "from langchain.chains import StuffDocumentsChain\n",
        "from langchain.chains.llm import LLMChain\n",
        "from langchain.prompts import PromptTemplate\n",
        "from google.colab import userdata"
      ],
      "metadata": {
        "id": "sBf6dWoJY0SM",
        "outputId": "b3514e0b-e069-4115-d4c3-99e8a11e37ca",
        "colab": {
          "base_uri": "https://localhost:8080/"
        }
      },
      "execution_count": 4,
      "outputs": [
        {
          "output_type": "stream",
          "name": "stderr",
          "text": [
            "WARNING:langchain_community.utils.user_agent:USER_AGENT environment variable not set, consider setting it to identify your requests.\n"
          ]
        }
      ]
    },
    {
      "cell_type": "code",
      "source": [
        "#export GOOGLE_API_KEY=\"YOUR_GOOGLE_API_KEY\"\n",
        "GOOGLE_API_KEY =userdata.get('GEMINI_APIKEY')"
      ],
      "metadata": {
        "id": "zRylZlUgZd-0"
      },
      "execution_count": 5,
      "outputs": []
    },
    {
      "cell_type": "code",
      "source": [
        "#Load the models\n",
        "llm = ChatGoogleGenerativeAI(model=\"gemini-pro\", google_api_key = GOOGLE_API_KEY)\n"
      ],
      "metadata": {
        "id": "RYXsCdxRZQju"
      },
      "execution_count": 6,
      "outputs": []
    },
    {
      "cell_type": "code",
      "source": [
        "#Load the blog\n",
        "loader = WebBaseLoader(\"https://thenewstack.io/the-building-blocks-of-llms-vectors-tokens-and-embeddings/\")\n",
        "docs = loader.load()"
      ],
      "metadata": {
        "id": "oEddLqR3CIeb"
      },
      "execution_count": 7,
      "outputs": []
    },
    {
      "cell_type": "code",
      "source": [
        "print (docs)"
      ],
      "metadata": {
        "id": "q-tJxqqN6exW",
        "outputId": "a1326320-63a8-46c0-c59d-dea2a873acf9",
        "colab": {
          "base_uri": "https://localhost:8080/"
        }
      },
      "execution_count": 8,
      "outputs": [
        {
          "output_type": "stream",
          "name": "stdout",
          "text": [
            "[Document(metadata={'source': 'https://thenewstack.io/the-building-blocks-of-llms-vectors-tokens-and-embeddings/', 'title': 'The Building Blocks of LLMs: Vectors, Tokens and Embeddings - The New Stack', 'description': 'Understanding vectors, tokens and embeddings is fundamental to grokking how large language models process language.', 'language': 'en-US'}, page_content='\\n\\n\\n\\n\\n\\n\\n\\n\\n\\n\\n\\n\\n\\n\\n\\n\\n\\n\\n\\n\\n\\n\\n\\n\\n\\n\\n\\n\\n\\n\\n\\n\\n\\n\\n\\n\\n\\n\\n\\n\\n\\n\\n\\n\\n\\n\\n\\nThe Building Blocks of LLMs: Vectors, Tokens and Embeddings - The New Stack\\n\\n\\n\\n\\n\\n\\n\\n\\n\\n\\n\\n\\n\\n\\n\\n\\n\\n\\n\\n\\n\\n\\n\\n\\n\\n\\n\\n\\n\\n\\n\\n\\n\\n\\n\\n\\n\\n\\n\\n\\n\\n\\n\\n\\n\\n   \\n\\n\\n  \\n\\n\\nTNS\\n\\n\\n\\n\\n\\n\\n\\n\\n\\n\\n\\n\\n\\nOK\\n\\n\\n\\n\\n\\n\\n\\n\\n\\nSUBSCRIBE\\n\\n\\n\\n\\n\\n\\n\\n\\n\\n\\n\\n\\n\\n\\n\\nJoin our community of software engineering leaders and aspirational developers. Always\\nstay in-the-know by getting the most important news and exclusive content delivered\\nfresh to your inbox to learn more about at-scale software development.\\n\\n\\n\\n\\n\\nEMAIL ADDRESS\\n\\n\\nREQUIRED\\n\\n\\n\\nSUBSCRIBE\\n\\n\\n\\n\\nRESUBSCRIPTION REQUIRED\\n\\n\\n\\xa0\\n\\n\\n\\nIt seems that you\\'ve previously unsubscribed from our newsletter\\nin the past. Click the button below to open the re-subscribe form\\nin a new tab. When you\\'re done, simply close that tab and continue\\nwith this form to complete your subscription.\\n\\nRE-SUBSCRIBE\\n\\n\\nThe New Stack does not sell your information or share it with\\nunaffiliated third parties. By continuing, you agree to our\\nTerms of Use and\\nPrivacy Policy.\\n\\n\\n\\n\\n\\nWelcome and thank you for joining The New Stack community!\\n\\n\\nPlease answer a few simple questions to help us deliver the news and resources you are interested in.\\n\\n\\n\\n\\n\\nFIRST NAME\\n\\n\\nREQUIRED\\n\\n\\n\\n\\n\\n\\n\\nLAST NAME\\n\\n\\nREQUIRED\\n\\n\\n\\n\\n\\n\\n\\nCOMPANY NAME\\n\\n\\nREQUIRED\\n\\n\\n\\n\\n\\n\\n\\nCOUNTRY\\n\\n\\nREQUIRED\\n\\n\\n\\nSelect ...\\nUnited States\\nCanada\\nIndia\\nUnited Kingdom\\nGermany\\nFrance\\n---\\nAfghanistan\\nAlbania\\nAlgeria\\nAmerican Samoa\\nAndorra\\nAngola\\nAnguilla\\nAntarctica\\nAntigua and Barbuda\\nArgentina\\nArmenia\\nAruba\\nAsia/Pacific Region\\nAustralia\\nAustria\\nAzerbaijan\\nBahamas\\nBahrain\\nBangladesh\\nBarbados\\nBelarus\\nBelgium\\nBelize\\nBenin\\nBermuda\\nBhutan\\nBolivia\\nBonaire, Sint Eustatius and Saba\\nBosnia and Herzegovina\\nBotswana\\nBouvet Island\\nBrazil\\nBritish Indian Ocean Territory\\nBrunei Darussalam\\nBulgaria\\nBurkina Faso\\nBurundi\\nCambodia\\nCameroon\\nCanada\\nCape Verde\\nCayman Islands\\nCentral African Republic\\nChad\\nChile\\nChina\\nChristmas Island\\nCocos (Keeling) Islands\\nColombia\\nComoros\\nCongo\\nCongo, The Democratic Republic of the\\nCook Islands\\nCosta Rica\\nCroatia\\nCuba\\nCuraçao\\nCyprus\\nCzech Republic\\nCôte d\\'Ivoire\\nDenmark\\nDjibouti\\nDominica\\nDominican Republic\\nEcuador\\nEgypt\\nEl Salvador\\nEquatorial Guinea\\nEritrea\\nEstonia\\nEthiopia\\nFalkland Islands (Malvinas)\\nFaroe Islands\\nFiji\\nFinland\\nFrance\\nFrench Guiana\\nFrench Polynesia\\nFrench Southern Territories\\nGabon\\nGambia\\nGeorgia\\nGermany\\nGhana\\nGibraltar\\nGreece\\nGreenland\\nGrenada\\nGuadeloupe\\nGuam\\nGuatemala\\nGuernsey\\nGuinea\\nGuinea-Bissau\\nGuyana\\nHaiti\\nHeard Island and Mcdonald Islands\\nHoly See (Vatican City State)\\nHonduras\\nHong Kong\\nHungary\\nIceland\\nIndia\\nIndonesia\\nIran, Islamic Republic Of\\nIraq\\nIreland\\nIsle of Man\\nIsrael\\nItaly\\nJamaica\\nJapan\\nJersey\\nJordan\\nKazakhstan\\nKenya\\nKiribati\\nKorea, Republic of\\nKuwait\\nKyrgyzstan\\nLaos\\nLatvia\\nLebanon\\nLesotho\\nLiberia\\nLibyan Arab Jamahiriya\\nLiechtenstein\\nLithuania\\nLuxembourg\\nMacao\\nMadagascar\\nMalawi\\nMalaysia\\nMaldives\\nMali\\nMalta\\nMarshall Islands\\nMartinique\\nMauritania\\nMauritius\\nMayotte\\nMexico\\nMicronesia, Federated States of\\nMoldova, Republic of\\nMonaco\\nMongolia\\nMontenegro\\nMontserrat\\nMorocco\\nMozambique\\nMyanmar\\nNamibia\\nNauru\\nNepal\\nNetherlands\\nNetherlands Antilles\\nNew Caledonia\\nNew Zealand\\nNicaragua\\nNiger\\nNigeria\\nNiue\\nNorfolk Island\\nNorth Korea\\nNorth Macedonia\\nNorthern Mariana Islands\\nNorway\\nOman\\nPakistan\\nPalau\\nPalestinian Territory, Occupied\\nPanama\\nPapua New Guinea\\nParaguay\\nPeru\\nPhilippines\\nPitcairn Islands\\nPoland\\nPortugal\\nPuerto Rico\\nQatar\\nReunion\\nRomania\\nRussian Federation\\nRwanda\\nSaint Barthélemy\\nSaint Helena\\nSaint Kitts and Nevis\\nSaint Lucia\\nSaint Martin\\nSaint Martin\\nSaint Pierre and Miquelon\\nSaint Vincent and the Grenadines\\nSamoa\\nSan Marino\\nSao Tome and Principe\\nSaudi Arabia\\nSenegal\\nSerbia\\nSerbia and Montenegro\\nSeychelles\\nSierra Leone\\nSingapore\\nSint Maarten\\nSlovakia\\nSlovenia\\nSolomon Islands\\nSomalia\\nSouth Africa\\nSouth Georgia and the South Sandwich Islands\\nSouth Sudan\\nSpain\\nSri Lanka\\nSudan\\nSuriname\\nSvalbard and Jan Mayen\\nSwaziland\\nSweden\\nSwitzerland\\nSyrian Arab Republic\\nTaiwan\\nTajikistan\\nTanzania, United Republic of\\nThailand\\nTimor-Leste\\nTogo\\nTokelau\\nTonga\\nTrinidad and Tobago\\nTunisia\\nTurkey\\nTurkmenistan\\nTurks and Caicos Islands\\nTuvalu\\nUganda\\nUkraine\\nUnited Arab Emirates\\nUnited Kingdom\\nUnited States\\nUnited States Minor Outlying Islands\\nUruguay\\nUzbekistan\\nVanuatu\\nVenezuela\\nVietnam\\nVirgin Islands, British\\nVirgin Islands, U.S.\\nWallis and Futuna\\nWestern Sahara\\nYemen\\nZambia\\nZimbabwe\\nÅland Islands\\n\\n\\n\\n\\n\\nZIPCODE\\n\\n\\nREQUIRED\\n\\n\\n\\n\\n\\n\\n\\n\\nGreat to meet you!\\n\\n\\nTell us a bit about your job so we can cover the topics you find most relevant.\\n\\n\\n\\n\\n\\nWhat is your job level?\\n\\n\\nREQUIRED\\n\\n\\n\\nSelect ...\\nC-Level\\nVP/Director\\nManager/Supervisor\\nMid Level or Senior Non-Managerial Staff\\nEntry Level/Junior Staff\\nFreelancer/Contractor\\nStudent/Intern\\nOther ...\\n\\n\\n\\n\\n\\n\\n\\n\\n\\n\\n\\n\\n\\n\\nWhich of these most closely describes your job role?\\n\\n\\nREQUIRED\\n\\n\\n\\nSelect ...\\nDeveloper/Software Engineer\\nSysAdmin/Operations/SRE\\nArchitect\\nSecurity Professional\\nDevOps Engineer/Team\\nCommunity Manager/Developer Advocate\\nIT management, including CIO/CISO/CTO\\nBusiness Development/Marketing/Sales\\nEnthusiast/Hobbyist\\nOther ...\\n\\n\\n\\n\\n\\n\\n\\n\\n\\n\\n\\n\\n\\n\\nHow many employees are in the organization you work with?\\n\\n\\nREQUIRED\\n\\n\\n\\nSelect ...\\nSelf-employed\\n2-10\\n11-50\\n51-250\\n251-1,000\\n1,001-10,000\\n> 10,000\\nI am not working\\n\\n\\n\\n\\n\\nWhat option best describes the type of organization you work for?\\n\\n\\nREQUIRED\\n\\n\\n\\nSelect ...\\n“End user” organization that primarily uses IT products and services to support their business deliverables\\nHardware / software vendor or supplier\\nCloud service provider or managed service provider\\nSystem integrator or IT consulting firm\\nOther ...\\n\\n\\n\\n\\n\\n\\n\\n\\n\\n\\n\\n\\n\\n\\nWhich of the following best describes your organization\\'s primary industry?\\n\\n\\nREQUIRED\\n\\n\\n\\nSelect ...\\nAdvertising/Marketing\\nAerospace/Aviation\\nAgriculture\\nAutomotive\\nBiotech/Pharmaceutical\\nBusiness Services (accounting, consulting, etc.)\\nComputers/Information Technology\\nConstruction\\nEducation\\nFacilities/Service Industry\\nFinance/Financial Services (banking, insurance, etc.)\\nGovernment\\nHealthcare\\nHuman Resources\\nLegal\\nLife sciences (biotech, pharmaceuticals, etc.)\\nManufacturing\\nMedia\\nNon-profit\\nReal Estate\\nRetail/Consumer Goods\\nTelecommunications\\nTransportation/Logistics\\nTravel/Hospitality/Entertainment\\nUtility/Energy\\nOther ...\\n\\n\\n\\n\\n\\n\\n\\n\\n\\n\\n\\n\\n\\n\\nLINKEDIN PROFILE URL\\n\\n\\nREQUIRED\\n\\n\\n\\n\\n\\n\\n\\n\\nWelcome!\\n\\n\\n\\nWe’re so glad you’re here. You can expect all the best TNS content to arrive\\nMonday through Friday to keep you on top of the news and at the top of your game.\\n\\n\\nWhat’s next?\\n\\n\\nCheck your inbox for a confirmation email where you can adjust your preferences\\nand even join additional groups.\\n\\n\\nFollow TNS on your favorite social media networks.\\n\\n\\n\\n\\n\\n\\n\\n\\n\\n\\n\\n\\n\\n\\n\\n\\n\\n\\n\\n\\n\\n\\n\\n\\n\\n\\n\\n\\n\\n\\n\\n\\n\\n\\n\\n\\n\\n\\n\\n\\n\\n\\nBecome a TNS follower on LinkedIn.\\n\\n\\nCheck out the latest featured and trending stories while you wait for your\\nfirst TNS newsletter.\\n\\n\\n\\n\\n\\n\\n\\n\\nPREV\\n\\n\\n1 of 2\\n\\n\\nNEXT\\n\\n\\n\\n\\n\\n\\n\\n\\n\\nVOXPOP\\n\\n\\n\\n\\n\\n\\n\\n\\n\\n\\n\\n\\n\\n\\n\\n\\n\\nAs a JavaScript developer, what non-React tools do you use most often? \\n\\n\\n\\n\\n\\n\\n\\n\\n✓\\n\\nAngular \\n0%\\n\\n\\n\\n✓\\n\\nAstro \\n0%\\n\\n\\n\\n✓\\n\\nSvelte \\n0%\\n\\n\\n\\n✓\\n\\nVue.js \\n0%\\n\\n\\n\\n✓\\n\\nOther \\n0%\\n\\n\\n\\n✓\\n\\nI only use React \\n0%\\n\\n\\n\\n✓\\n\\nI don\\'t use JavaScript \\n0%\\n\\n\\n\\n\\n\\n\\n\\n\\n\\n\\nThanks for your opinion! Subscribe below to get the final results, published\\nexclusively in our TNS Update newsletter:\\n\\n\\n\\n\\n\\n\\nSUBMIT\\n\\n\\n\\n\\n \\n\\n\\n\\n\\n\\n\\xa0\\n\\n\\n\\n\\n\\n\\n\\n\\n\\n\\n\\n\\n\\n\\n\\n\\n\\n\\n\\n\\n\\n\\n\\n\\n\\n\\n\\n\\n\\n\\n\\n\\n\\n\\n\\n\\n\\n\\n\\n\\n\\n\\n\\n\\n\\n\\n\\n\\n\\n\\n\\n\\n\\n\\n\\n\\n\\n\\n\\n\\n\\n\\n\\n\\n\\n\\n\\n\\n\\n\\n\\n\\n\\n\\n\\n\\n\\n\\n\\n\\n\\n\\n\\n\\n\\n\\n\\n\\n\\nSearch\\n\\n\\n\\n\\n\\n\\n\\n\\n\\n\\n\\n\\n\\n\\n\\n\\n\\n\\n\\n\\n\\n\\nMore Results\\n\\n\\n\\n\\n\\n\\n\\n\\n\\n\\n\\n\\n\\n\\nARCHITECTURE\\n\\n\\n\\nOpen Source \\n\\nCloud Native Ecosystem \\n\\nContainers \\n\\nEdge Computing \\n\\nMicroservices \\n\\nNetworking \\n\\nServerless \\n\\nStorage \\n\\n\\n\\n\\nENGINEERING\\n\\n\\n\\nAI \\n\\nLarge Language Models \\n\\nFrontend Development \\n\\nSoftware Development \\n\\nAPI Management \\n\\nPython \\n\\nJavaScript \\n\\nTypeScript \\n\\nWebAssembly \\n\\nCloud Services \\n\\nData \\n\\nSecurity \\n\\n\\n\\n\\nOPERATIONS\\n\\n\\n\\nPlatform Engineering \\n\\nOperations \\n\\nCI/CD \\n\\nTech Careers \\n\\nTech Culture \\n\\nDevOps \\n\\nKubernetes \\n\\nObservability \\n\\nService Mesh \\n\\n\\n\\n\\nCHANNELS\\n\\n\\n\\nPodcasts \\n\\nEbooks \\n\\nEvents \\n\\nNewsletter \\n\\nTNS RSS Feeds \\n\\n\\n\\n\\nTHE NEW STACK\\n\\n\\n\\nAbout / Contact \\n\\nSponsors \\n\\nAdvertise With Us \\n\\nContributions \\n\\n\\n\\n\\n\\n\\n\\n\\n\\nPODCASTS\\nEBOOKS\\nEVENTS\\nNEWSLETTER\\nCONTRIBUTE\\n\\n\\n\\n\\n\\n\\n\\n\\n\\n\\nARCHITECTURE\\n\\n\\nENGINEERING\\n\\n\\nOPERATIONS\\n\\n\\n\\n\\n\\n\\n\\n\\n\\n\\nOpen Source \\n\\nCloud Native Ecosystem \\n\\nContainers \\n\\nEdge Computing \\n\\nMicroservices \\n\\nNetworking \\n\\nServerless \\n\\nStorage \\n\\n\\n\\n\\n\\nNew Web Development Tool Pulls Design Tokens From Figma\\n\\n\\nSep 5th 2024 9:00am, by \\n\\nLoraine Lawson \\n\\n\\n\\n\\n\\nAn LLM-Turbocharged Community Calendar Reboot\\n\\n\\nSep 5th 2024 7:00am, by \\n\\nJon Udell \\n\\n\\n\\n\\n\\nWhat\\'s Behind Elastic\\'s Unexpected Return to Open Source?\\n\\n\\nSep 3rd 2024 9:52am, by \\n\\nSteven J. Vaughan-Nichols \\n\\n\\n\\n\\n\\nOpenJS Foundation’s Leader Details the Threats to Open Source\\n\\n\\nAug 29th 2024 6:00am, by \\n\\nHeather Joslyn \\n\\n\\n\\n\\n\\nValkey Is a Different Kind of Fork\\n\\n\\nAug 26th 2024 9:30am, by \\n\\nSteven J. Vaughan-Nichols \\n\\n\\n\\n\\n\\n\\n\\nRust, Linux, SLOs and All Things Performance at P99 CONF\\n\\n\\nSep 5th 2024 8:00am, by \\n\\nCynthia Dunlop \\n\\n\\n\\n\\n\\nWhat\\'s Behind Elastic\\'s Unexpected Return to Open Source?\\n\\n\\nSep 3rd 2024 9:52am, by \\n\\nSteven J. Vaughan-Nichols \\n\\n\\n\\n\\n\\nDid Broadcom’s VMware Hit Nutanix Where It Hurts?\\n\\n\\nSep 2nd 2024 7:00am, by \\n\\nB. Cameron Gain \\n\\n\\n\\n\\n\\nManage Multiple Jupyter Instances in the Same Cluster Safely\\n\\n\\nSep 2nd 2024 5:00am, by \\n\\nManas Chowdhury \\n\\n\\n\\n\\n\\nHow Supabase Is Building Its Platform Engineering Strategy\\n\\n\\nAug 29th 2024 6:42am, by \\n\\nTodd R. Weiss \\n\\n\\n\\n\\n\\n\\n\\nHow Heroku Is Positioned To Help Ops Engineers in the GenAI Era\\n\\n\\nSep 5th 2024 5:00am, by \\n\\nHeather Joslyn \\n\\n\\n\\n\\n\\nDocker Joins Movement To Dump Passwords for Security\\n\\n\\nAug 21st 2024 1:36pm, by \\n\\nSteven J. Vaughan-Nichols \\n\\n\\n\\n\\n\\nChainguard Launches CPU/GPU Containers for AI Frameworks\\n\\n\\nAug 19th 2024 12:52pm, by \\n\\nB. Cameron Gain \\n\\n\\n\\n\\n\\nRunc-Related Leaky Vessels Threaten Container Security\\n\\n\\nJul 23rd 2024 10:27am, by \\n\\nManas Chowdhury \\n\\n\\n\\n\\n\\n3 Ways To Improve Your Container Build Process\\n\\n\\nJul 22nd 2024 10:00am, by \\n\\nSylvain Kalache \\n\\n\\n\\n\\n\\n\\n\\nThe New 2GB Raspberry Pi 5: Another Option for Linux Sysadmins\\n\\n\\nSep 2nd 2024 9:00am, by \\n\\nDamon M. Garn \\n\\n\\n\\n\\n\\nGolang Pub/Sub: Why It’s Better When Combined With GoFr\\n\\n\\nAug 28th 2024 6:00am, by \\n\\nRobert Kimani \\n\\n\\n\\n\\n\\nWith eLxr, Wind River Brings Debian Linux to the Edge\\n\\n\\nAug 12th 2024 1:30pm, by \\n\\nJoab Jackson \\n\\n\\n\\n\\n\\nHow To Get Started Running Small Language Models at the Edge\\n\\n\\nJul 24th 2024 6:00am, by \\n\\nJanakiram MSV \\n\\n\\n\\n\\n\\nHow to Apply Microservice Architecture to Embedded Systems\\n\\n\\nJul 16th 2024 10:48am, by \\n\\nBob Reselman \\n\\n\\n\\n\\n\\n\\n\\nPlatform Engineering Reshapes Software Dev at Bechtle\\n\\n\\nSep 4th 2024 6:00am, by \\n\\nTodd R. Weiss \\n\\n\\n\\n\\n\\nShift Left on a Budget: Cost-Savvy Testing for Microservices\\n\\n\\nAug 27th 2024 12:03pm, by \\n\\nNočnica Mellifera \\n\\n\\n\\n\\n\\nRemocal Development: The Future of Efficient Kubernetes Workflows\\n\\n\\nAug 25th 2024 10:00am, by \\n\\nAnita Ihuman \\n\\n\\n\\n\\n\\nWhy Staging Doesn\\'t Scale for Microservice Testing\\n\\n\\nAug 16th 2024 10:13am, by \\n\\nArjun Iyer \\n\\n\\n\\n\\n\\nA Developers Guide to NIM, Nvidia’s AI Application Platform\\n\\n\\nAug 13th 2024 8:02am, by \\n\\nJanakiram MSV \\n\\n\\n\\n\\n\\n\\n\\nVMware Private Cloud Now Has a Catalog of Advanced Services\\n\\n\\nAug 27th 2024 6:01am, by \\n\\nJoab Jackson \\n\\n\\n\\n\\n\\nIstio 1.23 Drops the Sidecar for a Simpler \\'Ambient Mesh\\'\\n\\n\\nAug 19th 2024 12:59pm, by \\n\\nJoab Jackson \\n\\n\\n\\n\\n\\nLinux: Display and Manage IP Address Settings\\n\\n\\nAug 18th 2024 12:00pm, by \\n\\nDamon M. Garn \\n\\n\\n\\n\\n\\nLinux: Mount Remote Directories With SSHFS\\n\\n\\nAug 3rd 2024 6:00am, by \\n\\nJack Wallen \\n\\n\\n\\n\\n\\nClient-Side Monitoring Is a Must for Mobile Apps\\n\\n\\nJul 19th 2024 11:26am, by \\n\\nFredric Newberg \\n\\n\\n\\n\\n\\n\\n\\nAzure Durable Functions: FaaS for Complex Workflows\\n\\n\\nAug 15th 2024 8:16am, by \\n\\nLily Ma and David Justo \\n\\n\\n\\n\\n\\nMomento: Caching at Scale and More, Without All the Hassle\\n\\n\\nJul 22nd 2024 11:23am, by \\n\\nSusan Hall \\n\\n\\n\\n\\n\\nWebAssembly and Kubernetes Go Better Together: Matt Butcher\\n\\n\\nMay 22nd 2024 2:00pm, by \\n\\nRaghavan \"Rags\" Srinivas \\n\\n\\n\\n\\n\\nHow to Conquer Cold Starts for Better Performance\\n\\n\\nApr 25th 2024 9:17am, by \\n\\nHenry Hamid Safi \\n\\n\\n\\n\\n\\nMeet DBOS: A Database Alternative to Kubernetes\\xa0\\n\\n\\nMar 12th 2024 4:00am, by \\n\\nJoab Jackson \\n\\n\\n\\n\\n\\n\\n\\nManaging Data on Kubernetes (DoK): 4 Solutions\\n\\n\\nSep 4th 2024 11:00am, by \\n\\nRajiv Thakkar \\n\\n\\n\\n\\n\\nMulticloud: Why It\\'s the Best Choice for Data\\n\\n\\nAug 23rd 2024 11:57am, by \\n\\nMegan Grant \\n\\n\\n\\n\\n\\nOnehouse Automates Vector Embedding for Its Data Lakehouse\\n\\n\\nAug 22nd 2024 10:30am, by \\n\\nJelani Harper \\n\\n\\n\\n\\n\\nLinux: Low-level Data Copying with dd\\n\\n\\nAug 17th 2024 6:00am, by \\n\\nJack Wallen \\n\\n\\n\\n\\n\\nMomento: Caching at Scale and More, Without All the Hassle\\n\\n\\nJul 22nd 2024 11:23am, by \\n\\nSusan Hall \\n\\n\\n\\n\\n\\n\\n\\n\\n\\nAI \\n\\nLarge Language Models \\n\\nFrontend Development \\n\\nSoftware Development \\n\\nAPI Management \\n\\nPython \\n\\nJavaScript \\n\\nTypeScript \\n\\nWebAssembly \\n\\nCloud Services \\n\\nData \\n\\nSecurity \\n\\n\\n\\n\\n\\nAI Needs More Than a Vector Database \\n\\n\\nSep 5th 2024 12:00pm, by \\n\\nTim Young \\n\\n\\n\\n\\nEmpowering Developers Is Critical to Drive AI Innovation \\n\\n\\nSep 5th 2024 10:00am, by \\n\\nDominik Kundel \\n\\n\\n\\n\\nBeginner\\'s Guide to OpenAI Text Embedding Models \\n\\n\\nSep 5th 2024 6:56am, by \\n\\nJason Myers \\n\\n\\n\\n\\nThe Critical Role of GPU Data Orchestration in AI Success \\n\\n\\nSep 4th 2024 10:00am, by \\n\\nTrond Myklebust \\n\\n\\n\\n\\nDevelopers Can Now Access the World\\'s Fastest AI Chip \\n\\n\\nSep 3rd 2024 7:37am, by \\n\\nAgam Shah \\n\\n\\n\\n\\n\\n\\nAn LLM-Turbocharged Community Calendar Reboot \\n\\n\\nSep 5th 2024 7:00am, by \\n\\nJon Udell \\n\\n\\n\\n\\nBeginner\\'s Guide to OpenAI Text Embedding Models \\n\\n\\nSep 5th 2024 6:56am, by \\n\\nJason Myers \\n\\n\\n\\n\\nBoost LLM Results: When to Use Knowledge Graph RAG \\n\\n\\nSep 3rd 2024 6:00am, by \\n\\nBrian Godsey \\n\\n\\n\\n\\nMicrosoft Builds AutoGen Studio for AI Agent Prototyping \\n\\n\\nSep 1st 2024 6:00am, by \\n\\nDarryl K. Taft \\n\\n\\n\\n\\nBuild a RAG App With Nvidia NIM and Milvus Running Locally \\n\\n\\nAug 26th 2024 7:21am, by \\n\\nJanakiram MSV \\n\\n\\n\\n\\n\\n\\nNew Web Development Tool Pulls Design Tokens From Figma \\n\\n\\nSep 5th 2024 9:00am, by \\n\\nLoraine Lawson \\n\\n\\n\\n\\nIs React Now a Full Stack Framework? And Other Dev News \\n\\n\\nAug 31st 2024 5:00am, by \\n\\nLoraine Lawson \\n\\n\\n\\n\\n3 Lessons in Accessible Development From an Expert Tester \\n\\n\\nAug 29th 2024 12:00pm, by \\n\\nLoraine Lawson \\n\\n\\n\\n\\nDevelopers Rail Against JavaScript ‘Merchants of Complexity’ \\n\\n\\nAug 28th 2024 12:00pm, by \\n\\nRichard MacManus \\n\\n\\n\\n\\nRed Hat Tool Lets Developers Explore AI Applications Locally \\n\\n\\nAug 27th 2024 11:09am, by \\n\\nLoraine Lawson \\n\\n\\n\\n\\n\\n\\nEmpowering Developers Is Critical to Drive AI Innovation \\n\\n\\nSep 5th 2024 10:00am, by \\n\\nDominik Kundel \\n\\n\\n\\n\\nPlatform Engineering Reshapes Software Dev at Bechtle \\n\\n\\nSep 4th 2024 6:00am, by \\n\\nTodd R. Weiss \\n\\n\\n\\n\\nIntroduction to Datasette, a Frontend to Tabulated Data \\n\\n\\nSep 3rd 2024 11:01am, by \\n\\nDavid Eastman \\n\\n\\n\\n\\nDevelopers Can Now Access the World\\'s Fastest AI Chip \\n\\n\\nSep 3rd 2024 7:37am, by \\n\\nAgam Shah \\n\\n\\n\\n\\nBuild Platform Engineering as a Product for Dev Adoption \\n\\n\\nSep 2nd 2024 6:00am, by \\n\\nTodd R. Weiss \\n\\n\\n\\n\\n\\n\\nOpenTofu Registry Gets a User Interface — and an API \\n\\n\\nSep 5th 2024 11:00am, by \\n\\nJoab Jackson \\n\\n\\n\\n\\nBeyond Monitoring: The Urgent Need for Strategic API Consumption Management \\n\\n\\nAug 26th 2024 10:15am, by \\n\\nEyal Solomon \\n\\n\\n\\n\\nAPI Governance and Developer Experience in a Developer Portal \\n\\n\\nAug 22nd 2024 1:00pm, by \\n\\nAidan O\\'Connor \\n\\n\\n\\n\\nThe Struggle To Test Microservices Before Merging \\n\\n\\nAug 21st 2024 12:48pm, by \\n\\nNočnica Mellifera \\n\\n\\n\\n\\nUnexpected Benefits of Full-Stack API Development \\n\\n\\nAug 20th 2024 3:55am, by \\n\\nSteve Rodda \\n\\n\\n\\n\\n\\n\\nMastering the Fundamentals of Computer Vision With Python \\n\\n\\nAug 23rd 2024 8:10am, by \\n\\nZziwa Raymond Ian \\n\\n\\n\\n\\nHow To Use Inheritance in Python \\n\\n\\nAug 13th 2024 5:00pm, by \\n\\nJack Wallen \\n\\n\\n\\n\\nWhat Is the Python join() Function and When Should You Use It? \\n\\n\\nAug 12th 2024 5:00pm, by \\n\\nJack Wallen \\n\\n\\n\\n\\nWhat Is Python\\'s sum() Function and How Do You Use It? \\n\\n\\nAug 11th 2024 6:00am, by \\n\\nJack Wallen \\n\\n\\n\\n\\nWhat Is the Python Match Case Statement and Why Use It? \\n\\n\\nAug 8th 2024 5:00pm, by \\n\\nJack Wallen \\n\\n\\n\\n\\n\\n\\nIs React Now a Full Stack Framework? And Other Dev News \\n\\n\\nAug 31st 2024 5:00am, by \\n\\nLoraine Lawson \\n\\n\\n\\n\\nOpenJS Foundation’s Leader Details the Threats to Open Source \\n\\n\\nAug 29th 2024 6:00am, by \\n\\nHeather Joslyn \\n\\n\\n\\n\\nDevelopers Rail Against JavaScript ‘Merchants of Complexity’ \\n\\n\\nAug 28th 2024 12:00pm, by \\n\\nRichard MacManus \\n\\n\\n\\n\\nAI Dev Tools Ranked and Astro Adds Support for Large Sites \\n\\n\\nAug 24th 2024 7:00am, by \\n\\nLoraine Lawson \\n\\n\\n\\n\\nInside ECMAScript: JavaScript Standard Gets an Extra Stage \\n\\n\\nAug 21st 2024 6:00am, by \\n\\nMary Branscombe \\n\\n\\n\\n\\n\\n\\nIs React Now a Full Stack Framework? And Other Dev News \\n\\n\\nAug 31st 2024 5:00am, by \\n\\nLoraine Lawson \\n\\n\\n\\n\\nImplementing IAM in NestJS: The Essential Guide \\n\\n\\nAug 30th 2024 6:26am, by \\n\\nChesvic Hillary \\n\\n\\n\\n\\nTypeScript 5.5: Faster, Smarter and More Powerful \\n\\n\\nJun 25th 2024 6:41am, by \\n\\nDarryl K. Taft \\n\\n\\n\\n\\nUIX: A Full Stack Web Dev Framework Leveraging Deno \\n\\n\\nJun 11th 2024 11:30am, by \\n\\nLoraine Lawson \\n\\n\\n\\n\\nTanStack Introduces New Meta-Framework Based on Its Router \\n\\n\\nJun 5th 2024 11:38am, by \\n\\nLoraine Lawson \\n\\n\\n\\n\\n\\n\\nGolang for WebAssembly Can Now Work Like IT Should \\n\\n\\nAug 9th 2024 9:00am, by \\n\\nB. Cameron Gain \\n\\n\\n\\n\\nHow To Run WebAssembly on Kubernetes \\n\\n\\nJul 28th 2024 10:00am, by \\n\\nMatt Butcher \\n\\n\\n\\n\\nChicory: Write to WebAssembly, Overcome JVM Shortcomings\\xa0 \\n\\n\\nJul 19th 2024 12:33pm, by \\n\\nB. Cameron Gain \\n\\n\\n\\n\\nWhat’s Next for Flutter After Layoffs Hit Google Team \\n\\n\\nJul 17th 2024 9:01am, by \\n\\nLoraine Lawson \\n\\n\\n\\n\\nDemos: Deploying LLMs With WasmEdge\\xa0 \\n\\n\\nJul 16th 2024 8:28am, by \\n\\nHeather Joslyn \\n\\n\\n\\n\\n\\n\\nDid Broadcom’s VMware Hit Nutanix Where It Hurts? \\n\\n\\nSep 2nd 2024 7:00am, by \\n\\nB. Cameron Gain \\n\\n\\n\\n\\nBroadcom’s VMware Tanzu Platform 10 Becomes a PaaS \\n\\n\\nAug 28th 2024 12:34pm, by \\n\\nB. Cameron Gain \\n\\n\\n\\n\\nDynamic Scaling: Why Shifting Right Is the Smart Approach \\n\\n\\nAug 21st 2024 11:00am, by \\n\\nPhil Andrews \\n\\n\\n\\n\\nWhy Cloud Security Fails: The Posture vs. Runtime Gap \\n\\n\\nAug 21st 2024 10:00am, by \\n\\nShauli Rozen \\n\\n\\n\\n\\nAzure Durable Functions: FaaS for Complex Workflows \\n\\n\\nAug 15th 2024 8:16am, by \\n\\nLily Ma and David Justo \\n\\n\\n\\n\\n\\n\\nAn LLM-Turbocharged Community Calendar Reboot \\n\\n\\nSep 5th 2024 7:00am, by \\n\\nJon Udell \\n\\n\\n\\n\\nThe Critical Role of GPU Data Orchestration in AI Success \\n\\n\\nSep 4th 2024 10:00am, by \\n\\nTrond Myklebust \\n\\n\\n\\n\\nIntroduction to Datasette, a Frontend to Tabulated Data \\n\\n\\nSep 3rd 2024 11:01am, by \\n\\nDavid Eastman \\n\\n\\n\\n\\nBoost LLM Results: When to Use Knowledge Graph RAG \\n\\n\\nSep 3rd 2024 6:00am, by \\n\\nBrian Godsey \\n\\n\\n\\n\\nManage Multiple Jupyter Instances in the Same Cluster Safely \\n\\n\\nSep 2nd 2024 5:00am, by \\n\\nManas Chowdhury \\n\\n\\n\\n\\n\\n\\nManage Multiple Jupyter Instances in the Same Cluster Safely \\n\\n\\nSep 2nd 2024 5:00am, by \\n\\nManas Chowdhury \\n\\n\\n\\n\\nLinux: SSH and Key-Based Authentication \\n\\n\\nSep 1st 2024 12:00pm, by \\n\\nDamon M. Garn \\n\\n\\n\\n\\nImplementing IAM in NestJS: The Essential Guide \\n\\n\\nAug 30th 2024 6:26am, by \\n\\nChesvic Hillary \\n\\n\\n\\n\\nOrca Security Launches First K8s Testing/Staging Environment \\n\\n\\nAug 29th 2024 9:00am, by \\n\\nChris J. Preimesberger \\n\\n\\n\\n\\neBPF Security Power and Shortfalls \\n\\n\\nAug 28th 2024 8:12am, by \\n\\nB. Cameron Gain \\n\\n\\n\\n\\n\\n\\n\\n\\nPlatform Engineering \\n\\nOperations \\n\\nCI/CD \\n\\nTech Careers \\n\\nTech Culture \\n\\nDevOps \\n\\nKubernetes \\n\\nObservability \\n\\nService Mesh \\n\\n\\n\\n\\n\\nPlatform Engineering Reshapes Software Dev at Bechtle \\n\\n\\nSep 4th 2024 6:00am, by \\n\\nTodd R. Weiss \\n\\n\\n\\n\\nBuild Platform Engineering as a Product for Dev Adoption \\n\\n\\nSep 2nd 2024 6:00am, by \\n\\nTodd R. Weiss \\n\\n\\n\\n\\nHow Supabase Is Building Its Platform Engineering Strategy \\n\\n\\nAug 29th 2024 6:42am, by \\n\\nTodd R. Weiss \\n\\n\\n\\n\\nHow To Implement InnerSource With an Internal Developer Portal \\n\\n\\nAug 28th 2024 11:00am, by \\n\\nAidan O\\'Connor \\n\\n\\n\\n\\nHow Platform Engineering Enables the 10,000-Dev Workforce \\n\\n\\nAug 27th 2024 7:50am, by \\n\\nJennifer Riggins \\n\\n\\n\\n\\n\\n\\nOpenTofu Registry Gets a User Interface — and an API \\n\\n\\nSep 5th 2024 11:00am, by \\n\\nJoab Jackson \\n\\n\\n\\n\\nRust, Linux, SLOs and All Things Performance at P99 CONF \\n\\n\\nSep 5th 2024 8:00am, by \\n\\nCynthia Dunlop \\n\\n\\n\\n\\nHow Heroku Is Positioned To Help Ops Engineers in the GenAI Era \\n\\n\\nSep 5th 2024 5:00am, by \\n\\nHeather Joslyn \\n\\n\\n\\n\\nCharles Schwab Adopts PostgreSQL (With VMware Tanzu) \\n\\n\\nSep 4th 2024 8:49am, by \\n\\nJoab Jackson \\n\\n\\n\\n\\nTake the ‘Shift Left’ Approach a Step Further by ‘Starting Left’ \\n\\n\\nSep 3rd 2024 8:00am, by \\n\\nManish Kapur \\n\\n\\n\\n\\n\\n\\nBeyond IaC: Fixing Cloud’s Separation of Concerns Problem \\n\\n\\nSep 4th 2024 7:00am, by \\n\\nJye Cusch \\n\\n\\n\\n\\nOne Company Rethinks Diff to Cut Code Review Times \\n\\n\\nSep 2nd 2024 8:00am, by \\n\\nDavid Cassel \\n\\n\\n\\n\\nHow To Implement InnerSource With an Internal Developer Portal \\n\\n\\nAug 28th 2024 11:00am, by \\n\\nAidan O\\'Connor \\n\\n\\n\\n\\nA 7-Step Plan To Make Development Fun \\n\\n\\nAug 28th 2024 7:15am, by \\n\\nSteve Rodda \\n\\n\\n\\n\\nWhy CI and CD Need to Go Their Separate Ways \\n\\n\\nAug 27th 2024 10:30am, by \\n\\nChristian Hernandez \\n\\n\\n\\n\\n\\n\\nEmpowering Developers Is Critical to Drive AI Innovation \\n\\n\\nSep 5th 2024 10:00am, by \\n\\nDominik Kundel \\n\\n\\n\\n\\nAI Demands More Than Just Technical Skills From Developers \\n\\n\\nSep 1st 2024 10:00am, by \\n\\nRob Whiteley \\n\\n\\n\\n\\nThe Future of LLMs Is in Your Pocket \\n\\n\\nAug 31st 2024 10:00am, by \\n\\nJavier Redondo \\n\\n\\n\\n\\nCTO to CTPO: Navigating the Dual Role in Tech Leadership \\n\\n\\nAug 30th 2024 10:00am, by \\n\\nVicky Wills \\n\\n\\n\\n\\nThe Developer Crisis: Mental Health, Burnout, and Retention \\n\\n\\nAug 22nd 2024 11:00am, by \\n\\nCraig Smith \\n\\n\\n\\n\\n\\n\\nThe New 2GB Raspberry Pi 5: Another Option for Linux Sysadmins \\n\\n\\nSep 2nd 2024 9:00am, by \\n\\nDamon M. Garn \\n\\n\\n\\n\\nAI Demands More Than Just Technical Skills From Developers \\n\\n\\nSep 1st 2024 10:00am, by \\n\\nRob Whiteley \\n\\n\\n\\n\\nCTO to CTPO: Navigating the Dual Role in Tech Leadership \\n\\n\\nAug 30th 2024 10:00am, by \\n\\nVicky Wills \\n\\n\\n\\n\\n50 Years Later: Remembering How the Future Looked in 1974 \\n\\n\\nAug 24th 2024 6:00am, by \\n\\nDavid Cassel \\n\\n\\n\\n\\nThe Developer Crisis: Mental Health, Burnout, and Retention \\n\\n\\nAug 22nd 2024 11:00am, by \\n\\nCraig Smith \\n\\n\\n\\n\\n\\n\\nTake the ‘Shift Left’ Approach a Step Further by ‘Starting Left’ \\n\\n\\nSep 3rd 2024 8:00am, by \\n\\nManish Kapur \\n\\n\\n\\n\\nCTO to CTPO: Navigating the Dual Role in Tech Leadership \\n\\n\\nAug 30th 2024 10:00am, by \\n\\nVicky Wills \\n\\n\\n\\n\\nDeploy on Friday? Moratorium Doesn’t Achieve Admirable Goal \\n\\n\\nAug 29th 2024 11:00am, by \\n\\nSteve Fenton \\n\\n\\n\\n\\nReimagining Observability: The Case for a Disaggregated Stack \\n\\n\\nAug 29th 2024 10:00am, by \\n\\nNeha Pawar \\n\\n\\n\\n\\nBalancing AI Innovation and Tech Debt in the Cloud \\n\\n\\nAug 29th 2024 8:00am, by \\n\\nIdo Neeman \\n\\n\\n\\n\\n\\n\\nHow Heroku Is Positioned To Help Ops Engineers in the GenAI Era \\n\\n\\nSep 5th 2024 5:00am, by \\n\\nHeather Joslyn \\n\\n\\n\\n\\nManaging Data on Kubernetes (DoK): 4 Solutions \\n\\n\\nSep 4th 2024 11:00am, by \\n\\nRajiv Thakkar \\n\\n\\n\\n\\nOrca Security Launches First K8s Testing/Staging Environment \\n\\n\\nAug 29th 2024 9:00am, by \\n\\nChris J. Preimesberger \\n\\n\\n\\n\\neBPF Security Power and Shortfalls \\n\\n\\nAug 28th 2024 8:12am, by \\n\\nB. Cameron Gain \\n\\n\\n\\n\\nBroadcom Debuts VMware Tanzu Platform 10 at Explore 2024 \\n\\n\\nAug 27th 2024 6:00am, by \\n\\nJoab Jackson \\n\\n\\n\\n\\n\\n\\nReimagining Observability: The Case for a Disaggregated Stack \\n\\n\\nAug 29th 2024 10:00am, by \\n\\nNeha Pawar \\n\\n\\n\\n\\nWhat Is OpenTelemetry? The Ultimate Guide \\n\\n\\nAug 25th 2024 6:00am, by \\n\\nB. Cameron Gain \\n\\n\\n\\n\\nThe Hidden Costs of Chasing Five 9s \\n\\n\\nAug 24th 2024 10:00am, by \\n\\nAjinkya Mahadeo Ghadge \\n\\n\\n\\n\\nSpans: What Are They and Why Should Mobile Engineers Care? \\n\\n\\nAug 22nd 2024 7:58am, by \\n\\nFredric Newberg \\n\\n\\n\\n\\nServiceOps: Balancing Speed and Risk in DevOps \\n\\n\\nAug 21st 2024 5:02am, by \\n\\nMargaret Lee \\n\\n\\n\\n\\n\\n\\nIstio 1.23 Drops the Sidecar for a Simpler \\'Ambient Mesh\\' \\n\\n\\nAug 19th 2024 12:59pm, by \\n\\nJoab Jackson \\n\\n\\n\\n\\nCan Cilium Be a Control Plane Beyond Kubernetes? \\n\\n\\nJul 28th 2024 6:00am, by \\n\\nAlex Williams \\n\\n\\n\\n\\nEnhancing Business Security and Compliance with Service Mesh \\n\\n\\nApr 1st 2024 10:00am, by \\n\\nNinad Desai \\n\\n\\n\\n\\nSome Linkerd Users Must Pay: Fear and Anger Explained \\n\\n\\nFeb 28th 2024 9:21am, by \\n\\nB. Cameron Gain \\n\\n\\n\\n\\nBuoyant Revises Release Model for the Linkerd Service Mesh \\n\\n\\nFeb 21st 2024 9:30am, by \\n\\nJoab Jackson \\n\\n\\n\\n\\n\\n\\n\\n\\n\\n\\n\\n\\n\\n\\n\\n\\n\\n\\n\\n2024-02-08 07:32:56 \\nThe Building Blocks of LLMs: Vectors, Tokens and Embeddings\\n\\ntutorial, \\n\\n\\n\\n\\n\\nAI \\n / \\n\\nLarge Language Models \\n\\n\\n\\n\\nThe Building Blocks of LLMs: Vectors, Tokens and Embeddings \\n\\nUnderstanding vectors, tokens and embeddings is fundamental to grokking how large language models process language. \\n\\n\\n\\nFeb 8th, 2024 7:32am by \\n\\nJanakiram MSV \\n\\n\\n\\n\\n\\n\\nPhoto by La-Rel Easter on Unsplash.\\n\\n\\n\\n\\n\\n\\n\\n\\n\\n\\n\\n\\n\\nWhen you are dealing with LLMs, you often come across the terms “vectors,” “tokens” and “embeddings.” It’s important to thoroughly understand these concepts before delving into building chatbots and AI assistants. With multimodal approaches gaining ground, these terms go beyond just large language models (LLMs) to also interpret images and videos.\\nThe objective of this tutorial is to introduce you to these core concepts through simple, straightforward examples and code snippets.\\nVectors: The Language of Machines\\nVectors play a crucial role in the functioning of LLMs and generative AI. To understand their significance, it’s essential to grasp what vectors are and how they are generated and utilized in LLMs.\\nIn mathematics and physics, a vector is an object that has both magnitude and direction. It can be represented geometrically as a directed line segment, where the length of the line indicates the magnitude, and the arrow points in the direction of the vector. Vectors are fundamental in representing quantities that can’t be fully described by a single number — such as force, velocity or displacement — and which have both magnitude and direction.\\nIn the realm of LLMs, vectors are used to represent text or data in a numerical form that the model can understand and process. This representation is known as an embedding. Embeddings are high-dimensional vectors that capture the semantic meaning of words, sentences or even entire documents. The process of converting text into embeddings allows LLMs to perform various natural language processing tasks, such as text generation, sentiment analysis and more.\\nSimply put, a vector is a single-dimensional array.\\nSince machines only understand numbers, data such as text and images is converted into vectors. The vector is the only format that is understood by neural networks and transformer architectures.\\nOperations on vectors, such as a dot product, help us discover whether two vectors are identical or different. At a high level, this forms the basis for performing similarity search on vectors stored in memory or in specialized vector databases.\\nThe code snippet below introduces the basic idea of a vector. As you can see, it is a simple one-dimensional array:\\n\\n\\n\\nimport numpy as np\\r\\n\\r\\n# Creating a vector from a list\\r\\nvector = np.array([1, 2, 3])\\r\\nprint(\"Vector:\", vector)\\r\\n\\r\\n# Vector addition\\r\\nvector2 = np.array([4, 5, 6])\\r\\nsum_vector = vector + vector2\\r\\nprint(\"Vector addition:\", sum_vector)\\r\\n\\r\\n# Scalar multiplication\\r\\nscalar = 2\\r\\nscaled_vector = vector * scalar\\r\\nprint(\"Scalar multiplication:\", scaled_vector)\\n\\n\\n\\n\\n123456789101112131415\\n\\nimport numpy as np\\xa0# Creating a vector from a listvector = np.array([1, 2, 3])print(\"Vector:\", vector)\\xa0# Vector additionvector2 = np.array([4, 5, 6])sum_vector = vector + vector2print(\"Vector addition:\", sum_vector)\\xa0# Scalar multiplicationscalar = 2scaled_vector = vector * scalarprint(\"Scalar multiplication:\", scaled_vector)\\n\\n\\n\\n\\n\\nWhile the vector shown above has no association with text, it does convey the idea. Tokens, which we explore in the next section, are the mechanism to represent text in vectors.\\nTokens: The Building Blocks of LLMs\\nTokens are the basic units of data processed by LLMs. In the context of text, a token can be a word, part of a word (subword), or even a character — depending on the tokenization process.\\nWhen text is passed through a tokenizer, it encodes the input based on a specific scheme and emits specialized vectors that can be understood by the LLM. The encoding scheme is highly dependent on the LLM. The tokenizer may decide to convert each word and a part of the word into a vector, which is based on the encoding. When a token is passed through a decoder, it can be easily translated into text again.\\nIt’s common to refer to the context length of LLMs as one of the key differentiating factors. Technically, it maps to the ability of the LLM to accept a specific number of tokens as input and generate another set of tokens as output. The tokenizer is responsible for encoding the prompt (input) into tokens and the response (output) back into text.\\nTokens are the representations of text in the form of a vector.\\nThe below code snippets explain how text is converted into tokens for an open model like Llama 2 and a commercial model such as GPT-4. These are based on the transformers module from Hugging Face and Tiktoken from OpenAI.\\n\\n\\n\\nfrom transformers import AutoTokenizer\\r\\n\\r\\nmodel = \"meta-llama/Llama-2-7b-chat-hf\"\\r\\ntokenizer = AutoTokenizer.from_pretrained(model,token=\"HF_TOKEN\")\\r\\n\\r\\ntext = \"Apple is a fruit\"\\r\\n\\r\\ntoken = tokenizer.encode(text)\\r\\nprint(token)\\r\\n\\r\\ndecoded_text = tokenizer.decode(token)\\r\\nprint(decoded_text)\\n\\n\\n\\n\\n123456789101112\\n\\nfrom transformers import AutoTokenizer\\xa0model = \"meta-llama/Llama-2-7b-chat-hf\"tokenizer = AutoTokenizer.from_pretrained(model,token=\"HF_TOKEN\")\\xa0text = \"Apple is a fruit\"\\xa0token = tokenizer.encode(text)print(token)\\xa0decoded_text = tokenizer.decode(token)print(decoded_text)\\n\\n\\n\\n\\n\\n\\n\\n\\n\\nimport tiktoken\\r\\n\\r\\ntokenizer=tiktoken.encoding_for_model(\"gpt-4\")\\r\\n\\r\\ntext = \"Apple is a fruit\"\\r\\n\\r\\ntoken=tokenizer.encode(text)\\r\\nprint(token)\\r\\n\\r\\ndecoded_text = tokenizer.decode(token)\\r\\nprint(decoded_text)\\n\\n\\n\\n\\n1234567891011\\n\\nimport tiktoken\\xa0tokenizer=tiktoken.encoding_for_model(\"gpt-4\")\\xa0text = \"Apple is a fruit\"\\xa0token=tokenizer.encode(text)print(token)\\xa0decoded_text = tokenizer.decode(token)print(decoded_text)\\n\\n\\n\\n\\n\\n\\nSo, the key takeaway is that tokens are vectors based on a specific tokenizer.\\nEmbeddings: The Semantic Space\\nIf tokens are vector representations of text, embeddings are tokens with semantic context. They represent the meaning and context of the text. If tokens are encoded or decoded by a tokenizer, an embeddings model is responsible for generating text embeddings in the form of a vector. Embeddings are what allow LLMs to understand the context, nuance and subtle meanings of words and phrases. They are the result of the model learning from vast amounts of text data, and encode not just the identity of a token but its relationships with other tokens.\\nEmbeddings are the foundational aspect of LLMs.\\nThrough embeddings, LLMs achieve a deep understanding of language, enabling tasks like sentiment analysis, text summarization and question answering with nuanced comprehension and generation capabilities. They are the entry point to the LLM, but they are also used outside of the LLM to convert text into vectors while retaining the semantic context. When text is passed through an embedding model, a vector is produced that contains the embeddings. Below are examples from an open source embedding model, sentence-transformers/all-MiniLM-L6-v2, as well as OpenAI’s model, text-embedding-3-small.\\n\\n\\n\\nfrom sentence_transformers import SentenceTransformer\\r\\n\\r\\nsentences = [\"Apple is a fruit\", \"Car is a vehicle\"]\\r\\n\\r\\nmodel = SentenceTransformer(\\'sentence-transformers/all-MiniLM-L6-v2\\')\\r\\nembeddings = model.encode(sentences)\\r\\n\\r\\nprint(len(embeddings[0]))\\r\\n\\r\\nprint(embeddings)\\n\\n\\n\\n\\n12345678910\\n\\nfrom sentence_transformers import SentenceTransformer\\xa0sentences = [\"Apple is a fruit\", \"Car is a vehicle\"]\\xa0model = SentenceTransformer(\\'sentence-transformers/all-MiniLM-L6-v2\\')embeddings = model.encode(sentences)\\xa0print(len(embeddings[0]))\\xa0print(embeddings)\\n\\n\\n\\n\\n\\n\\n\\n\\n\\nfrom openai import OpenAI\\r\\n\\r\\nclient = OpenAI(api_key=\"OPENAI_API_KEY\")\\r\\n\\r\\nmodel=\"text-embedding-3-small\"\\r\\nsentences = [\"Apple is a fruit\", \"Car is a vehicle\"]\\r\\n\\r\\nembeddings=client.embeddings.create(input = sentences, model=model).data[0].embedding\\r\\n\\r\\nprint(len(embeddings))\\r\\n\\r\\nprint(embeddings)\\n\\n\\n\\n\\n123456789101112\\n\\nfrom openai import OpenAI\\xa0client = OpenAI(api_key=\"OPENAI_API_KEY\")\\xa0model=\"text-embedding-3-small\"sentences = [\"Apple is a fruit\", \"Car is a vehicle\"]\\xa0embeddings=client.embeddings.create(input = sentences, model=model).data[0].embedding\\xa0print(len(embeddings))\\xa0print(embeddings)\\n\\n\\n\\n\\n\\n\\nComparison and Interaction\\nTokens vs. Vectors: Tokens are the linguistic units, while vectors are the mathematical representations of these units. Every token is mapped to a vector in the LLM’s processing pipeline.\\nVectors vs. Embeddings: All embeddings are vectors, but not all vectors are embeddings. Embeddings are vectors that have been specifically trained to capture deep semantic relationships.\\nTokens and Embeddings: The transition from tokens to embeddings represents the movement from a discrete representation of language to a nuanced, continuous and contextually aware semantic space.\\nUnderstanding vectors, tokens and embeddings is fundamental to grasping how LLMs process language. Tokens serve as the basic data units, vectors provide a mathematical framework for machine processing, and embeddings bring depth and understanding, enabling LLMs to perform tasks with human-like versatility and accuracy. Together, these components form the backbone of LLM technology, enabling the sophisticated language models that power today’s AI applications.\\n\\n\\n\\nTRENDING STORIES \\n\\n\\n\\n\\n\\n\\n\\n\\nGroup\\nCreated with Sketch.\\n\\n\\n\\n\\n\\n\\n\\n \\n\\n\\n\\n\\n\\n\\n\\n\\n\\nJanakiram MSV is the Principal Analyst at Janakiram & Associates and an adjunct faculty member at the International Institute of Information Technology. He is also a Google Qualified Cloud Developer, an Amazon Certified Solution Architect, an Amazon Certified Developer, an... \\n\\n\\nRead more from Janakiram MSV \\n\\n\\n\\n\\n\\n\\n\\n\\n\\n\\n\\n\\n\\n\\n\\n\\n\\n\\n\\n\\n\\nSHARE THIS STORY \\n\\n\\n\\n\\n\\n\\n\\n\\n\\n\\n\\n\\n\\n\\n\\n\\n\\n\\n\\n\\n\\n\\n\\n\\n\\n\\n\\n\\n\\n\\n\\n\\n\\n\\n\\n\\n\\n\\n\\nTRENDING STORIES \\n\\n\\n\\n\\n\\n\\n\\n\\n\\n\\n\\n\\n\\nTNS owner Insight Partners is an investor in: Simply. \\n\\n\\n\\n\\n\\n\\nSHARE THIS STORY \\n\\n\\n\\n\\n\\n\\n\\n\\n\\n\\n\\n\\n\\n\\n\\n\\n\\n\\n\\n\\n\\n\\n\\n\\n\\n\\n\\n\\n\\n\\n\\n\\n\\n\\n\\n\\n\\n\\n\\nTRENDING STORIES \\n\\n\\n\\n\\n\\n\\n\\n\\n\\n\\n\\n\\n\\nTNS DAILY NEWSLETTER\\nReceive a free roundup of the most recent TNS articles in your inbox each day. \\n\\n\\n\\n\\nSUBSCRIBE\\n\\n\\n\\nThe New Stack does not sell your information or share it with\\nunaffiliated third parties. By continuing, you agree to our\\nTerms of Use and\\nPrivacy Policy.\\n\\n\\n\\n\\n\\n\\n\\n\\n\\n\\n\\n\\n\\n\\n\\nARCHITECTURE\\n\\n\\n\\nOpen Source \\n\\nCloud Native Ecosystem \\n\\nContainers \\n\\nEdge Computing \\n\\nMicroservices \\n\\nNetworking \\n\\nServerless \\n\\nStorage \\n\\n\\n\\n\\nENGINEERING\\n\\n\\n\\nAI \\n\\nLarge Language Models \\n\\nFrontend Development \\n\\nSoftware Development \\n\\nAPI Management \\n\\nPython \\n\\nJavaScript \\n\\nTypeScript \\n\\nWebAssembly \\n\\nCloud Services \\n\\nData \\n\\nSecurity \\n\\n\\n\\n\\nOPERATIONS\\n\\n\\n\\nPlatform Engineering \\n\\nOperations \\n\\nCI/CD \\n\\nTech Careers \\n\\nTech Culture \\n\\nDevOps \\n\\nKubernetes \\n\\nObservability \\n\\nService Mesh \\n\\n\\n\\n\\nCHANNELS\\n\\n\\n\\nPodcasts \\n\\nEbooks \\n\\nEvents \\n\\nNewsletter \\n\\nTNS RSS Feeds \\n\\n\\n\\n\\nTHE NEW STACK\\n\\n\\n\\nAbout / Contact \\n\\nSponsors \\n\\nAdvertise With Us \\n\\nContributions \\n\\n\\n\\n\\n\\n\\n\\n\\nroadmap.sh \\n\\n\\nCommunity created roadmaps, articles, resources and journeys for\\ndevelopers to help you choose your path and grow in your career.\\n\\n\\n\\n\\nFrontend Developer Roadmap\\n\\n\\n\\n\\n\\nBackend Developer Roadmap\\n\\n\\n\\n\\n\\nDevops Roadmap\\n\\n\\n\\n\\n\\n\\n \\n\\n\\n\\n\\n\\n\\n\\n© The New Stack 2024 \\n\\nDisclosures\\nTerms of Use\\nAdvertising Terms & Conditions\\nPrivacy Policy\\nCookie Policy\\n\\n\\n\\n\\nFOLLOW TNS\\n\\n\\n\\n\\n\\n\\n\\n\\n\\n\\n\\n\\n\\n\\n\\n\\n\\n\\n\\n\\n\\n\\n\\n\\n\\n\\n\\n\\n\\n\\n\\n\\n\\n\\n\\n\\n\\n\\n\\n\\n\\n\\n\\n\\n\\n\\n\\n\\n\\n\\n\\n\\n\\n\\n\\n\\n\\n\\n\\n\\n\\n\\n\\n\\n\\n\\n\\n\\n\\n\\n\\n\\n\\n\\n\\n\\n')]\n"
          ]
        }
      ]
    },
    {
      "cell_type": "code",
      "source": [
        "#Define the Summarize Chain\n",
        "template = \"\"\"Write a concise summary of the following:\n",
        "\"{text}\"\n",
        "CONCISE SUMMARY:\"\"\""
      ],
      "metadata": {
        "id": "qPqlEinFlS7W"
      },
      "execution_count": 9,
      "outputs": []
    },
    {
      "cell_type": "code",
      "source": [
        "prompt = PromptTemplate.from_template(template)"
      ],
      "metadata": {
        "id": "HSkltsK60AEj"
      },
      "execution_count": 10,
      "outputs": []
    },
    {
      "cell_type": "code",
      "source": [
        "llm_chain = LLMChain(llm=llm, prompt=prompt)\n",
        "stuff_chain = StuffDocumentsChain(llm_chain=llm_chain, document_variable_name=\"text\")"
      ],
      "metadata": {
        "colab": {
          "base_uri": "https://localhost:8080/"
        },
        "id": "BvQcx1Vq0CKm",
        "outputId": "565de143-855a-42a5-9a7e-f575ca6f23d3"
      },
      "execution_count": 11,
      "outputs": [
        {
          "output_type": "stream",
          "name": "stderr",
          "text": [
            "<ipython-input-11-0db0151bb2cd>:1: LangChainDeprecationWarning: The class `LLMChain` was deprecated in LangChain 0.1.17 and will be removed in 1.0. Use RunnableSequence, e.g., `prompt | llm` instead.\n",
            "  llm_chain = LLMChain(llm=llm, prompt=prompt)\n",
            "<ipython-input-11-0db0151bb2cd>:2: LangChainDeprecationWarning: This class is deprecated. Use the `create_stuff_documents_chain` constructor instead. See migration guide here: https://python.langchain.com/v0.2/docs/versions/migrating_chains/stuff_docs_chain/\n",
            "  stuff_chain = StuffDocumentsChain(llm_chain=llm_chain, document_variable_name=\"text\")\n"
          ]
        }
      ]
    },
    {
      "cell_type": "code",
      "source": [
        "#Invoke Chain\n",
        "response=stuff_chain.invoke(docs)\n",
        "print(response[\"output_text\"])"
      ],
      "metadata": {
        "id": "TePyfs6LlVQJ",
        "outputId": "2e7b1a0d-54e2-4278-90b7-2c49ed889b15",
        "colab": {
          "base_uri": "https://localhost:8080/"
        }
      },
      "execution_count": 12,
      "outputs": [
        {
          "output_type": "stream",
          "name": "stdout",
          "text": [
            "This article provides an overview of vectors, tokens, and embeddings in the context of large language models (LLMs). Vectors are numerical representations of data, tokens are the basic units of data processed by LLMs, and embeddings are tokens with semantic context. These concepts are essential for understanding how LLMs process language, as they serve as the building blocks of these models and enable them to perform tasks such as text generation, sentiment analysis, and question answering.\n"
          ]
        }
      ]
    },
    {
      "cell_type": "code",
      "source": [],
      "metadata": {
        "id": "uc2gPX2zzo2Q"
      },
      "execution_count": null,
      "outputs": []
    }
  ]
}