{
  "nbformat": 4,
  "nbformat_minor": 0,
  "metadata": {
    "colab": {
      "provenance": [],
      "include_colab_link": true
    },
    "kernelspec": {
      "name": "python3",
      "display_name": "Python 3"
    },
    "language_info": {
      "name": "python"
    }
  },
  "cells": [
    {
      "cell_type": "markdown",
      "metadata": {
        "id": "view-in-github",
        "colab_type": "text"
      },
      "source": [
        "<a href=\"https://colab.research.google.com/github/nandyc/langchain-rag-basics/blob/main/langchain_rag_Summary.ipynb\" target=\"_parent\"><img src=\"https://colab.research.google.com/assets/colab-badge.svg\" alt=\"Open In Colab\"/></a>"
      ]
    },
    {
      "cell_type": "code",
      "execution_count": 1,
      "metadata": {
        "colab": {
          "base_uri": "https://localhost:8080/"
        },
        "id": "saMdkS7iYMRf",
        "outputId": "000320da-5dfd-4003-8016-f1f53f6edfa1"
      },
      "outputs": [
        {
          "output_type": "stream",
          "name": "stdout",
          "text": [
            "Cloning into 'langchain-rag-basics'...\n",
            "remote: Enumerating objects: 20, done.\u001b[K\n",
            "remote: Counting objects: 100% (20/20), done.\u001b[K\n",
            "remote: Compressing objects: 100% (19/19), done.\u001b[K\n",
            "remote: Total 20 (delta 6), reused 0 (delta 0), pack-reused 0 (from 0)\u001b[K\n",
            "Receiving objects: 100% (20/20), 162.29 KiB | 3.25 MiB/s, done.\n",
            "Resolving deltas: 100% (6/6), done.\n"
          ]
        }
      ],
      "source": [
        "!git clone https://github.com/nandyc/langchain-rag-basics.git"
      ]
    },
    {
      "cell_type": "code",
      "source": [
        "%cd langchain-rag-basics"
      ],
      "metadata": {
        "colab": {
          "base_uri": "https://localhost:8080/"
        },
        "id": "OtR0EjOFYhbE",
        "outputId": "f86236d5-52ec-4587-eef3-e906e4236c88"
      },
      "execution_count": 2,
      "outputs": [
        {
          "output_type": "stream",
          "name": "stdout",
          "text": [
            "/content/langchain-rag-basics\n"
          ]
        }
      ]
    },
    {
      "cell_type": "code",
      "source": [
        "%%capture\n",
        "### Install required modules and set the envvar for Gemini API Key\n",
        "!pip install pypdf\n",
        "!pip install chromadb\n",
        "!pip install google.generativeai\n",
        "!pip install langchain-google-genai\n",
        "!pip install langchain\n",
        "!pip install langchain_community"
      ],
      "metadata": {
        "id": "UgS91MLAYxQf"
      },
      "execution_count": 9,
      "outputs": []
    },
    {
      "cell_type": "code",
      "source": [
        "#Import Python modules\n",
        "from langchain_google_genai import ChatGoogleGenerativeAI\n",
        "from langchain_google_genai import GoogleGenerativeAIEmbeddings\n",
        "from langchain.prompts import PromptTemplate\n",
        "from langchain_community.document_loaders import PyPDFLoader\n",
        "from langchain_text_splitters import CharacterTextSplitter\n",
        "from langchain.chains.combine_documents import create_stuff_documents_chain\n",
        "from langchain.chains import create_retrieval_chain\n",
        "from langchain.vectorstores import Chroma\n",
        "from google.colab import userdata"
      ],
      "metadata": {
        "id": "sBf6dWoJY0SM"
      },
      "execution_count": 4,
      "outputs": []
    },
    {
      "cell_type": "code",
      "source": [
        "#export GOOGLE_API_KEY=\"YOUR_GOOGLE_API_KEY\"\n",
        "GOOGLE_API_KEY =userdata.get('GEMINI_APIKEY')"
      ],
      "metadata": {
        "id": "zRylZlUgZd-0"
      },
      "execution_count": 5,
      "outputs": []
    },
    {
      "cell_type": "code",
      "source": [
        "#Load the models\n",
        "llm = ChatGoogleGenerativeAI(model=\"gemini-pro\", google_api_key = GOOGLE_API_KEY)\n",
        "embeddings = GoogleGenerativeAIEmbeddings(model=\"models/embedding-001\", google_api_key = GOOGLE_API_KEY)"
      ],
      "metadata": {
        "id": "RYXsCdxRZQju"
      },
      "execution_count": 6,
      "outputs": []
    },
    {
      "cell_type": "code",
      "source": [
        "embeddings"
      ],
      "metadata": {
        "colab": {
          "base_uri": "https://localhost:8080/"
        },
        "id": "SJeo6_Sqz5nO",
        "outputId": "6932f7b8-21a8-4095-8633-8ad83128ada3"
      },
      "execution_count": 25,
      "outputs": [
        {
          "output_type": "execute_result",
          "data": {
            "text/plain": [
              "GoogleGenerativeAIEmbeddings(client=<google.ai.generativelanguage_v1beta.services.generative_service.client.GenerativeServiceClient object at 0x79d0bc19b8e0>, model='models/embedding-001', task_type=None, google_api_key=SecretStr('**********'), credentials=None, client_options=None, transport=None, request_options=None)"
            ]
          },
          "metadata": {},
          "execution_count": 25
        }
      ]
    },
    {
      "cell_type": "code",
      "source": [
        "#Load the PDF and create chunks\n",
        "loader = PyPDFLoader(\"./data/Reimagining Data Visualization to Address Sustainability Goals.pdf\")\n",
        "text_splitter = CharacterTextSplitter(\n",
        "    separator=\".\",\n",
        "    chunk_size=250,\n",
        "    chunk_overlap=50,\n",
        "    length_function=len,\n",
        "    is_separator_regex=False,\n",
        ")"
      ],
      "metadata": {
        "id": "oEddLqR3CIeb"
      },
      "execution_count": 11,
      "outputs": []
    },
    {
      "cell_type": "code",
      "source": [
        "pages = loader.load_and_split(text_splitter)"
      ],
      "metadata": {
        "colab": {
          "base_uri": "https://localhost:8080/"
        },
        "id": "qPqlEinFlS7W",
        "outputId": "646bd3c4-3176-4c6f-e329-9ca0caf388a2"
      },
      "execution_count": 12,
      "outputs": [
        {
          "output_type": "stream",
          "name": "stderr",
          "text": [
            "WARNING:langchain_text_splitters.base:Created a chunk of size 499, which is longer than the specified 250\n",
            "WARNING:langchain_text_splitters.base:Created a chunk of size 255, which is longer than the specified 250\n",
            "WARNING:langchain_text_splitters.base:Created a chunk of size 292, which is longer than the specified 250\n",
            "WARNING:langchain_text_splitters.base:Created a chunk of size 269, which is longer than the specified 250\n",
            "WARNING:langchain_text_splitters.base:Created a chunk of size 274, which is longer than the specified 250\n",
            "WARNING:langchain_text_splitters.base:Created a chunk of size 309, which is longer than the specified 250\n",
            "WARNING:langchain_text_splitters.base:Created a chunk of size 279, which is longer than the specified 250\n",
            "WARNING:langchain_text_splitters.base:Created a chunk of size 360, which is longer than the specified 250\n",
            "WARNING:langchain_text_splitters.base:Created a chunk of size 309, which is longer than the specified 250\n",
            "WARNING:langchain_text_splitters.base:Created a chunk of size 276, which is longer than the specified 250\n",
            "WARNING:langchain_text_splitters.base:Created a chunk of size 264, which is longer than the specified 250\n",
            "WARNING:langchain_text_splitters.base:Created a chunk of size 349, which is longer than the specified 250\n",
            "WARNING:langchain_text_splitters.base:Created a chunk of size 445, which is longer than the specified 250\n",
            "WARNING:langchain_text_splitters.base:Created a chunk of size 256, which is longer than the specified 250\n",
            "WARNING:langchain_text_splitters.base:Created a chunk of size 1158, which is longer than the specified 250\n",
            "WARNING:langchain_text_splitters.base:Created a chunk of size 756, which is longer than the specified 250\n",
            "WARNING:langchain_text_splitters.base:Created a chunk of size 286, which is longer than the specified 250\n",
            "WARNING:langchain_text_splitters.base:Created a chunk of size 262, which is longer than the specified 250\n",
            "WARNING:langchain_text_splitters.base:Created a chunk of size 267, which is longer than the specified 250\n",
            "WARNING:langchain_text_splitters.base:Created a chunk of size 1001, which is longer than the specified 250\n",
            "WARNING:langchain_text_splitters.base:Created a chunk of size 331, which is longer than the specified 250\n",
            "WARNING:langchain_text_splitters.base:Created a chunk of size 469, which is longer than the specified 250\n",
            "WARNING:langchain_text_splitters.base:Created a chunk of size 793, which is longer than the specified 250\n",
            "WARNING:langchain_text_splitters.base:Created a chunk of size 272, which is longer than the specified 250\n"
          ]
        }
      ]
    },
    {
      "cell_type": "code",
      "source": [
        "len(pages)"
      ],
      "metadata": {
        "colab": {
          "base_uri": "https://localhost:8080/"
        },
        "id": "HSkltsK60AEj",
        "outputId": "14108caa-4321-4837-bab2-1d6fdef4a3bb"
      },
      "execution_count": 26,
      "outputs": [
        {
          "output_type": "execute_result",
          "data": {
            "text/plain": [
              "163"
            ]
          },
          "metadata": {},
          "execution_count": 26
        }
      ]
    },
    {
      "cell_type": "code",
      "source": [
        "pages"
      ],
      "metadata": {
        "colab": {
          "base_uri": "https://localhost:8080/"
        },
        "id": "BvQcx1Vq0CKm",
        "outputId": "6d73303d-1794-445b-d493-ffe7f603b31a"
      },
      "execution_count": 27,
      "outputs": [
        {
          "output_type": "execute_result",
          "data": {
            "text/plain": [
              "[Document(metadata={'source': './data/Reimagining Data Visualization to Address Sustainability Goals.pdf', 'page': 0}, page_content='arXiv:2409.03611v1  [cs'),\n",
              " Document(metadata={'source': './data/Reimagining Data Visualization to Address Sustainability Goals.pdf', 'page': 0}, page_content='HC]  5 Sep 2024Reimagining Data Visualization to Address Sustainability Goals\\nNarges Mahyar *\\nManning College of Information and Computer Sciences, Univ ersity of Massachusetts Amherst\\nABSTRACT\\nInformation visualization holds signiﬁcant potential to s upport sus-\\ntainability goals such as environmental stewardship, and c limate\\nresilience by transforming complex data into accessible vi sual for-\\nmats that enhance public understanding of complex climate c hange\\ndata and drive actionable insights'),\n",
              " Document(metadata={'source': './data/Reimagining Data Visualization to Address Sustainability Goals.pdf', 'page': 0}, page_content='While the ﬁeld has predo mi-\\nnantly focused on analytical orientation of visualization , challeng-\\ning traditional visualization techniques and goals, throu gh “criti-\\ncal visualization” research expands existing assumptions and con-\\nventions in the ﬁeld'),\n",
              " Document(metadata={'source': './data/Reimagining Data Visualization to Address Sustainability Goals.pdf', 'page': 0}, page_content='In this paper, I explore how reimagin-\\ning overlooked aspects of data visualization—such as engag ement,\\nemotional resonance, communication, and community empowe r-\\nment—can contribute to achieving sustainability objectiv es'),\n",
              " Document(metadata={'source': './data/Reimagining Data Visualization to Address Sustainability Goals.pdf', 'page': 0}, page_content='I argue\\nthat by focusing on inclusive data visualization that promo tes clar-\\nity, understandability, and public participation, we can m ake com-\\nplex data more relatable and actionable, fostering broader connec-\\ntions and mobilizing collective action on critical issues l ike climate\\nchange'),\n",
              " Document(metadata={'source': './data/Reimagining Data Visualization to Address Sustainability Goals.pdf', 'page': 0}, page_content='Moreover, I discuss the role of emotional receptivi ty in\\nenvironmental data communication, stressing the need for v isual-\\nizations that respect diverse cultural perspectives and em otional re-\\nsponses to achieve impactful outcomes'),\n",
              " Document(metadata={'source': './data/Reimagining Data Visualization to Address Sustainability Goals.pdf', 'page': 0}, page_content='Drawing on insights from a\\ndecade of research in public participation and community en gage-\\nment, I aim to highlight how data visualization can democrat ize\\ndata access and increase public involvement in order to cont ribute\\nto a more sustainable and resilient future'),\n",
              " Document(metadata={'source': './data/Reimagining Data Visualization to Address Sustainability Goals.pdf', 'page': 0}, page_content='Index Terms: Climate Change, Visualization, Critical Theories,\\nEngagement, Public Participation , Collective Action\\n1 I NTRODUCTION\\nVisualization has demonstrated immense potential in effec tively\\ncommunicating climate change data to experts, scientists, and pol-\\nicymakers'),\n",
              " Document(metadata={'source': './data/Reimagining Data Visualization to Address Sustainability Goals.pdf', 'page': 0}, page_content='Given the complexity and interconnected nature of cli-\\nmate change issues, engaging the broader community to colla borate\\nwith policymakers and government ofﬁcials is crucial. Howe ver,\\npublic engagement with climate change remains low'),\n",
              " Document(metadata={'source': './data/Reimagining Data Visualization to Address Sustainability Goals.pdf', 'page': 0}, page_content='The pres sing\\nquestion now is: how can we reimagine visualization to effec tively\\ncommunicate this intricate and complex societal challenge to the\\npublic?\\nTo envision the future of information visualization for add ressing\\nsustainability challenges, we must ﬁrst look into the past, its his-\\ntory and origins'),\n",
              " Document(metadata={'source': './data/Reimagining Data Visualization to Address Sustainability Goals.pdf', 'page': 0}, page_content='Understanding the goals and objectives th at have\\nshaped the ﬁeld over time provides valuable insights into it s evo-\\nlution and the foundational principles that guide its devel opment'),\n",
              " Document(metadata={'source': './data/Reimagining Data Visualization to Address Sustainability Goals.pdf', 'page': 0}, page_content='This historical perspective helps to identify areas where t here have\\nbeen limitations or opportunities for growth'),\n",
              " Document(metadata={'source': './data/Reimagining Data Visualization to Address Sustainability Goals.pdf', 'page': 0}, page_content='By reﬂecting on these\\ninsights, we can reimagine the future of information visual ization,\\nconsidering what needs to be changed or expanded upon to meet\\nnew challenges and opportunities in our increasingly data- driven\\nworld, especially in the face of sustainability challenges'),\n",
              " Document(metadata={'source': './data/Reimagining Data Visualization to Address Sustainability Goals.pdf', 'page': 0}, page_content='Information visualization is inherently interdisciplina ry, draw-\\ning principles from ﬁelds such as statistics, visual commun ication,\\n*e-mail: nmahyar@cs.umass.edugraphic design, and cognitive science'),\n",
              " Document(metadata={'source': './data/Reimagining Data Visualization to Address Sustainability Goals.pdf', 'page': 0}, page_content='umass.edugraphic design, and cognitive science. This interdiscipli nary nature\\nhas led to a diverse array of deﬁnitions and perspectives'),\n",
              " Document(metadata={'source': './data/Reimagining Data Visualization to Address Sustainability Goals.pdf', 'page': 0}, page_content='In the fol-\\nlowing sections, I present notable deﬁnitions arranged chr onologi-\\ncally to illustrate the evolution of the ﬁeld, as well as the v ariety of\\nperspectives and approaches in visualization'),\n",
              " Document(metadata={'source': './data/Reimagining Data Visualization to Address Sustainability Goals.pdf', 'page': 0}, page_content='Edward Tufte, in The Visual Display of Quantitative\\nInformation [30] deﬁnes information visualization as a means\\nto visually represent data with the goal of revealing comple x in-\\nformation clearly and efﬁciently'),\n",
              " Document(metadata={'source': './data/Reimagining Data Visualization to Address Sustainability Goals.pdf', 'page': 0}, page_content='He emphasizes achieving graph-\\nical excellence in information visualization. According t o Tufte,\\ngraphical excellence involves “the well-designed present ation of\\ninteresting data—a matter of substance, statistics, and de sign”\\n[30]'),\n",
              " Document(metadata={'source': './data/Reimagining Data Visualization to Address Sustainability Goals.pdf', 'page': 0}, page_content='Card et al deﬁne visualization as “the use of computer-\\nsupported, interactive visual representations of data to a mplify cog-\\nnition” [ 6]'),\n",
              " Document(metadata={'source': './data/Reimagining Data Visualization to Address Sustainability Goals.pdf', 'page': 0}, page_content='Stephen Few, in Information Dashboard Design\\n[12], deﬁnes data visualization as the use of visual representa -\\ntions to explore, comprehend, and communicate data'),\n",
              " Document(metadata={'source': './data/Reimagining Data Visualization to Address Sustainability Goals.pdf', 'page': 0}, page_content='Accord -\\ning to Few, data visualization serves three fundamental goa ls\\nsuited to their respective tasks: exploration for discover y, sense-\\nmaking for understanding, and communication for informing de-\\ncisions'),\n",
              " Document(metadata={'source': './data/Reimagining Data Visualization to Address Sustainability Goals.pdf', 'page': 0}, page_content='He emphasizes the effectiveness of visual represe nta-\\ntion in conveying information and highlights vision as the d om-\\ninant human sense for processing data'),\n",
              " Document(metadata={'source': './data/Reimagining Data Visualization to Address Sustainability Goals.pdf', 'page': 0}, page_content='David McCandless, in\\nInformation is Beautiful [25], views visualization as an art\\nform that transforms data into compelling narratives'),\n",
              " Document(metadata={'source': './data/Reimagining Data Visualization to Address Sustainability Goals.pdf', 'page': 0}, page_content='Tama ra Mun-\\nzner, inVisualization Analysis and Design [26], deﬁnes\\nvisualization as “computer-based visualization systems p rovide vi-\\nsual representations of datasets designed to help people ca rry out\\ntasks more effectively'),\n",
              " Document(metadata={'source': './data/Reimagining Data Visualization to Address Sustainability Goals.pdf', 'page': 0}, page_content='” She emphasizes that visualizatio n is partic-\\nularly valuable when it complements human capabilities rat her than\\naiming to replace them with automated decision-making proc esses'),\n",
              " Document(metadata={'source': './data/Reimagining Data Visualization to Address Sustainability Goals.pdf', 'page': 0}, page_content='Andy Kirk, inData Visualization: A Handbook for Data\\nDriven Design deﬁnes data visualization as “the representation\\nand presentation of data to facilitate understanding'),\n",
              " Document(metadata={'source': './data/Reimagining Data Visualization to Address Sustainability Goals.pdf', 'page': 0}, page_content='” He e xplains\\nthree stages of understanding: perceiving, interpreting, and com-\\nprehending'),\n",
              " Document(metadata={'source': './data/Reimagining Data Visualization to Address Sustainability Goals.pdf', 'page': 0}, page_content='Colin Ware, in Information Visualization:\\nPerception for Design [33], discusses how visual representa-\\ntions leverage human perceptual abilities to recognize pat terns and\\ntrends'),\n",
              " Document(metadata={'source': './data/Reimagining Data Visualization to Address Sustainability Goals.pdf', 'page': 0}, page_content='He states that “one of the greatest beneﬁts of data vi su-\\nalization is the sheer quantity of information that can be ra pidly\\ninterpreted if it is presented well'),\n",
              " Document(metadata={'source': './data/Reimagining Data Visualization to Address Sustainability Goals.pdf', 'page': 0}, page_content='”\\nThese diverse deﬁnitions reinforce the multifaceted natur e of in-\\nformation visualization, encompassing principles from de sign, cog-\\nnition, perception, and HCI, and highlighting its role in ma king data\\naccessible and interpretable'),\n",
              " Document(metadata={'source': './data/Reimagining Data Visualization to Address Sustainability Goals.pdf', 'page': 0}, page_content='While these deﬁnitions cove r a broad\\nrange of goals for information visualization, including di scovering\\nnew insights, understanding and making sense of data, and co mmu-\\nnicating data and knowledge through graphical means, the ma jority\\nof work in the ﬁeld has focused predominantly on investigati ng and\\nharnessing analytical aspects of visualization [ 2]'),\n",
              " Document(metadata={'source': './data/Reimagining Data Visualization to Address Sustainability Goals.pdf', 'page': 0}, page_content='Consequently,\\nless attention has been paid to other societal aspects that c onsider\\nthe lifecycle of a visualization, including its creation, u sage by peo-\\nple, and the context in which it is applied'),\n",
              " Document(metadata={'source': './data/Reimagining Data Visualization to Address Sustainability Goals.pdf', 'page': 0}, page_content='Drawing on insights gained from over a decade of research in\\ndesigning and developing visualization for public partici pation and\\ncommunity engagement using theories of public participati on and\\ncitizen sourcing [ 1–5,15–17,19–21,23,29,35], I discuss the dimen-\\nsions in data visualization that can lead to democratizing a ccess to'),\n",
              " Document(metadata={'source': './data/Reimagining Data Visualization to Address Sustainability Goals.pdf', 'page': 1}, page_content='information and fostering increased public engagement. I b egin\\nby reviewing recent critical perspectives on visualizatio n that chal-\\nlenge conventional assumptions and delve into broader aspe cts of\\nthe ﬁeld'),\n",
              " Document(metadata={'source': './data/Reimagining Data Visualization to Address Sustainability Goals.pdf', 'page': 1}, page_content='Subsequently, I highlight dimensions that requir e further\\ndevelopment or greater emphasis to effectively engage comm uni-\\nties with complex data, such as climate change and sustainab ility\\ninformation'),\n",
              " Document(metadata={'source': './data/Reimagining Data Visualization to Address Sustainability Goals.pdf', 'page': 1}, page_content='By exploring the intersection of data visualization with pu blic\\nparticipation and participatory frameworks, this work aim s to high-\\nlight how visual representations of complex information ca n en-\\ngage communities, empower them to inﬂuence policies, and am -\\nplify their voices in decision-making processes'),\n",
              " Document(metadata={'source': './data/Reimagining Data Visualization to Address Sustainability Goals.pdf', 'page': 1}, page_content='This work calls for\\nthe development of new theories and approaches in designing visu-\\nalizations that prioritize Community engagement, and cond ucting\\nexperiments to interrogate previous assumptions'),\n",
              " Document(metadata={'source': './data/Reimagining Data Visualization to Address Sustainability Goals.pdf', 'page': 1}, page_content='Derivin g insights\\nfrom a body of interdisciplinary research, public particip ation, citi-\\nzen sourcing, learning and communication theories, the des ign and\\ndevelopment of these visualizations should be methodicall y imple-\\nmented and evaluated with target audiences in mind'),\n",
              " Document(metadata={'source': './data/Reimagining Data Visualization to Address Sustainability Goals.pdf', 'page': 1}, page_content='Future a p-\\nproaches should prioritize clear communication with emoti onal res-\\nonance, stimulate attention, and bridge gaps in understand ing to\\npromote inclusivity and facilitate informed dialogues on c ritical is-\\nsues such as sustainability and climate change'),\n",
              " Document(metadata={'source': './data/Reimagining Data Visualization to Address Sustainability Goals.pdf', 'page': 1}, page_content='By emphasiz ing\\nthese aspects, visualizations can not only present data eff ectively\\nbut also resonate emotionally with audiences, driving enga gement\\nand prompting actionable outcomes'),\n",
              " Document(metadata={'source': './data/Reimagining Data Visualization to Address Sustainability Goals.pdf', 'page': 1}, page_content='2 E MERGING THEORIES AND CRITICAL DEVELOPMENTS IN\\nVISUALIZATION\\nMore recently, researchers have begun to explore alternati ve per-\\nspectives on visualization, examining the intentions behi nd design-\\ning visualization and its broader implications'),\n",
              " Document(metadata={'source': './data/Reimagining Data Visualization to Address Sustainability Goals.pdf', 'page': 1}, page_content='These stud ies offer\\nnew perspectives to understanding visualization processe s and prac-\\ntices, including ethical dimensions [ 7], feminist perspectives [ 8],\\ncritical theory [ 9], and rhetorical approaches [ 13]'),\n",
              " Document(metadata={'source': './data/Reimagining Data Visualization to Address Sustainability Goals.pdf', 'page': 1}, page_content='In a recent book on data visualization in society [10],\\nAlberto Cairo writes a foreword called “the dawn of a philoso phy\\nof visualization” in which he argues that just as artifacts s uch as\\nthe clock, the compass, or the map has transformed science, s o-\\nciety, and culture, data visualization transforms how we pe rceive\\nand interact with reality'),\n",
              " Document(metadata={'source': './data/Reimagining Data Visualization to Address Sustainability Goals.pdf', 'page': 1}, page_content='Cairo invites visualization res earchers to\\ncritically examine data visualization, exploring its orig ins and in-\\ntentions, and to work towards developing a philosophy of dat a vi-\\nsualization'),\n",
              " Document(metadata={'source': './data/Reimagining Data Visualization to Address Sustainability Goals.pdf', 'page': 1}, page_content='Data Visualization in Society is a notable exa mple of\\nsuch effort, offering a deeper inquiry into the role of visua lization\\nin society and politics and its potential to bridge or deepen soci-\\netal divides'),\n",
              " Document(metadata={'source': './data/Reimagining Data Visualization to Address Sustainability Goals.pdf', 'page': 1}, page_content='This book has inspired much research, includi ng our\\nwork on the political aspects of text visualization in the co ntext of\\ncivics [ 2]'),\n",
              " Document(metadata={'source': './data/Reimagining Data Visualization to Address Sustainability Goals.pdf', 'page': 1}, page_content='However, if we examine the citations of this book, we\\nﬁnd that it has been mostly applied in other disciplines such as jour-\\nnalism, communication, education, and politics'),\n",
              " Document(metadata={'source': './data/Reimagining Data Visualization to Address Sustainability Goals.pdf', 'page': 1}, page_content='There is a need for\\nmore of such critical work to be incorporated into the core bo dy of\\nvisualization research'),\n",
              " Document(metadata={'source': './data/Reimagining Data Visualization to Address Sustainability Goals.pdf', 'page': 1}, page_content='InData Feminism , D’Ignazio and Klein, presents a compelling\\nframework that combines data science and intersectional fe minist\\ntheory to address issues of power and justice [ 8]'),\n",
              " Document(metadata={'source': './data/Reimagining Data Visualization to Address Sustainability Goals.pdf', 'page': 1}, page_content='The book is struc-\\ntured around seven key principles: examining power, challe nging\\npower, elevating emotion and embodiment, rethinking binar ies and\\nhierarchies, embracing pluralism, considering context, a nd making\\nlabor visible'),\n",
              " Document(metadata={'source': './data/Reimagining Data Visualization to Address Sustainability Goals.pdf', 'page': 1}, page_content='These principles guide readers in understan ding how\\npower dynamics inﬂuence data collection, analysis, and int erpreta-\\ntion, and how these processes can be redesigned to promote eq uity\\nand justice'),\n",
              " Document(metadata={'source': './data/Reimagining Data Visualization to Address Sustainability Goals.pdf', 'page': 1}, page_content='They advocate for a critical approach to data th at rec-\\nognizes these existing social hierarchies and biases and wo rks to\\ndismantle them'),\n",
              " Document(metadata={'source': './data/Reimagining Data Visualization to Address Sustainability Goals.pdf', 'page': 1}, page_content='For example, they highlight how the male/fe male\\nbinary in data classiﬁcation can be expanded to challenge ot her hi-erarchical systems. This book has swiftly inﬂuenced variou s disci-\\nplines, including visualization'),\n",
              " Document(metadata={'source': './data/Reimagining Data Visualization to Address Sustainability Goals.pdf', 'page': 1}, page_content='For instance, we have uti lized con-\\ncepts from this book to lay the foundation for the integratio n of\\npara data into visualization [ 4], advocate for including novices into\\nthe ﬁeld, and critically examining how power dynamics shape the\\ndeﬁnition of valuable and valid knowledge or skills [ 3], and empha-\\nsizing that data is neither neutral nor objective which is ex tremely\\nimportant in political contexts such as civic decision-mak ing [2]'),\n",
              " Document(metadata={'source': './data/Reimagining Data Visualization to Address Sustainability Goals.pdf', 'page': 1}, page_content='While these works have paved the way for new and critical per-\\nspectives in data visualization, we need more research that critically\\ninvestigates which aspects, goals, and methods are most eff ective in\\nengaging a global audience with climate change data'),\n",
              " Document(metadata={'source': './data/Reimagining Data Visualization to Address Sustainability Goals.pdf', 'page': 1}, page_content='There a re a\\nwide range of open questions to consider: What adjustments a re\\nrequired in our visualization design, methods, processes, and eval-\\nuation when engagement becomes the primary goal of data visu al-\\nization? How can we engage, inform, and inspire such a divers e\\naudience not only to understand the urgency of climate data b ut\\nalso to take meaningful action? How can embedding emotion an d\\nembodiment enhance the communication of complex data to the\\ngeneral public? How can we make data more relatable, persona l,\\nand impactful? How do we empower audiences with varying lev-\\nels of data, language, and visual literacy to understand the data and\\nenhance their analytical reasoning? Should we explore new m edia?\\nShould we incorporate multimodal interactions? Should we i nte-\\ngrate art, engage with the various senses such as smell and so und\\nin new ways? What is the role of soniﬁcation, music and theatr ical\\nperformances in this context?\\nViegas and Wattenberg [ 32] emphasized that “an ideal visualiza-\\ntion should not only communicate clearly but also stimulate viewer\\nengagement and attention”, which is particularly relevant in this\\ncontext'),\n",
              " Document(metadata={'source': './data/Reimagining Data Visualization to Address Sustainability Goals.pdf', 'page': 1}, page_content='However, recent research by Mark reveals a signiﬁc ant de-\\ncline in average attention spans on screens, dropping from a round\\ntwo and a half minutes in 2004 to approximately 75 seconds [ 24]'),\n",
              " Document(metadata={'source': './data/Reimagining Data Visualization to Address Sustainability Goals.pdf', 'page': 1}, page_content='According to Mark, currently, people can only maintain focu s on\\none screen for an average of 47 seconds'),\n",
              " Document(metadata={'source': './data/Reimagining Data Visualization to Address Sustainability Goals.pdf', 'page': 1}, page_content='Therefore, the press ing\\nquestion remains: in an era of shrinking attention spans, ho w do we\\ncapture and sustain engagement?\\nFurthermore, how can we empower stakeholders across divers e\\nsectors to grasp climate data and effectively address clima te-related\\nchallenges? How can visualization not only drive progress i n cli-\\nmate mitigation but also lay the foundation for a more resili ent and\\nsustainable world?\\n3 F OSTERING COMMUNITY ENGAGEMENT : D IMENSIONS\\nAND THEORETICAL DEVELOPMENT\\nDesigning technology solutions for sociotechnical proble ms\\npresents signiﬁcant challenges due to the interconnected n ature of\\nthese issues and the complexity arising from diverse stakeh older\\nneeds, values, objectives, knowledge levels, and technica l skills\\n[21]'),\n",
              " Document(metadata={'source': './data/Reimagining Data Visualization to Address Sustainability Goals.pdf', 'page': 1}, page_content='In the literature of Computer-Supported Cooperative Wor k\\n(CSCW), it is well-known that transitioning from supportin g a sin-\\ngle user to multiple users adds layers of complexity [ 14,18]'),\n",
              " Document(metadata={'source': './data/Reimagining Data Visualization to Address Sustainability Goals.pdf', 'page': 1}, page_content='While\\nvisualization design has a strong foundation in supporting groups in\\nCSCW research, an important distinction lies in designing f or het-\\nerogeneous groups with diverse goals and objectives, rathe r than\\nhomogeneous groups of collaborators with shared interests and\\nsimilar skills'),\n",
              " Document(metadata={'source': './data/Reimagining Data Visualization to Address Sustainability Goals.pdf', 'page': 1}, page_content='When designing for communities, particularly in the contex t of\\nsociotechnical problems, the challenge lies in accommodat ing vary-\\ning levels of knowledge, technical backgrounds, visual and data\\nliteracy, objectives, values, available time, attention, and more'),\n",
              " Document(metadata={'source': './data/Reimagining Data Visualization to Address Sustainability Goals.pdf', 'page': 1}, page_content='Complicating this space further are inherent conﬂicts, suc h as the\\nNIMBY (Not In My Backyard) problem in urban planning or mis-\\ninformation and disbelief in climate change'),\n",
              " Document(metadata={'source': './data/Reimagining Data Visualization to Address Sustainability Goals.pdf', 'page': 1}, page_content='Addressing th ese chal-\\nlenges necessitates nuanced approaches that promote inclu sivity,\\nmitigate conﬂicts, and enhance community engagement throu gh ef-'),\n",
              " Document(metadata={'source': './data/Reimagining Data Visualization to Address Sustainability Goals.pdf', 'page': 2}, page_content='fective communication and visual strategies.\\nTherefore, there is a crucial need for engaging, accessible , and\\nrelatable data visualization for people with various capab ilities'),\n",
              " Document(metadata={'source': './data/Reimagining Data Visualization to Address Sustainability Goals.pdf', 'page': 2}, page_content='De-\\nspite advancements in the ﬁeld of visualization, current so lutions\\noften fall short, lacking inclusivity and accessibility fo r novices [ 3]'),\n",
              " Document(metadata={'source': './data/Reimagining Data Visualization to Address Sustainability Goals.pdf', 'page': 2}, page_content='In the following sections, I discuss and propose new dimensi ons\\nthat require further development, expanding upon the open q ues-\\ntions that I raised in Section 2.\\n3'),\n",
              " Document(metadata={'source': './data/Reimagining Data Visualization to Address Sustainability Goals.pdf', 'page': 2}, page_content='1 Transitioning from Analytics-Heavy to Engagement-\\nSavvy\\nThe prevailing emphasis on the analytical aspect of data vis ualiza-\\ntion often overshadows other crucial dimensions such as com muni-\\ncation, engagement, emotional resonance, and community em pow-\\nerment [ 2]'),\n",
              " Document(metadata={'source': './data/Reimagining Data Visualization to Address Sustainability Goals.pdf', 'page': 2}, page_content='While the analytical aspect is vital, it is equally impor-\\ntant to foster connections with people, to draw their attent ion and\\nto make data relatable and actionable for them'),\n",
              " Document(metadata={'source': './data/Reimagining Data Visualization to Address Sustainability Goals.pdf', 'page': 2}, page_content='By focusing s olely\\non analysis, we risk alienating the very people who could ben eﬁt\\nmost from the insights data provides'),\n",
              " Document(metadata={'source': './data/Reimagining Data Visualization to Address Sustainability Goals.pdf', 'page': 2}, page_content='Additionally, it is im pera-\\ntive to consider how factors such as educational background , po-\\nlitical afﬁliation, and personal experience shape attitud es and trust\\nin data visualization, particularly among underrepresent ed popula-\\ntions [ 27]'),\n",
              " Document(metadata={'source': './data/Reimagining Data Visualization to Address Sustainability Goals.pdf', 'page': 2}, page_content='Incorporating emotional engagement and community-\\nbuilding elements can transform data visualization into a p owerful\\ntool for education, advocacy, and collective action, espec ially on\\npressing issues such as climate change and public health'),\n",
              " Document(metadata={'source': './data/Reimagining Data Visualization to Address Sustainability Goals.pdf', 'page': 2}, page_content='It is time\\nto broaden our approach to data visualization, recognizing that its\\npower lies not just in what it reveals, but in how it connects a nd\\nmobilizes people'),\n",
              " Document(metadata={'source': './data/Reimagining Data Visualization to Address Sustainability Goals.pdf', 'page': 2}, page_content='Many open questions remain including: How can we measure\\nthe impact of engagement in data visualizations on public un der-\\nstanding and behavior change given the subjectivity of it ? W hat\\nare the best practices for designing visualizations that ca ter to di-\\nverse audiences with varying levels of data, visual and lang uage\\nliteracy? How can community feedback be effectively integr ated\\ninto the design process of visualizations to enhance releva nce and\\nengagement? and What role do emotions and personal relevanc e\\nplay in the effectiveness of data visualizations, and how ca n these\\nelements be integrated into design practices?\\nWhile we introduced an interdisciplinary approach by borro wing\\nBloom’s Taxonomy from the ﬁeld of education to more meaning-\\nfully measure engagement [ 22], future studies are needed to de-\\nvelop frameworks for identifying factors that lead to disen gage-\\nment, as well as methods and processes for evaluating and reﬁ ning\\nengagement practices in data visualization'),\n",
              " Document(metadata={'source': './data/Reimagining Data Visualization to Address Sustainability Goals.pdf', 'page': 2}, page_content='3.2 Democratizing Data & Broadening Participation\\nEffective visualization strategies should aim to democrat ize access\\nto information by making complex data accessible and unders tand-\\nable to a broad audience [ 3]'),\n",
              " Document(metadata={'source': './data/Reimagining Data Visualization to Address Sustainability Goals.pdf', 'page': 2}, page_content='This involves not only designing\\ncomprehensible and navigable visualization and visual int erfaces\\nbut also incorporating techniques such as storytelling and narrative\\ntechniques to convey data-driven insights effectively'),\n",
              " Document(metadata={'source': './data/Reimagining Data Visualization to Address Sustainability Goals.pdf', 'page': 2}, page_content='By empower-\\ning communities with the tools and knowledge to interpret an d act\\nupon data, visualization can foster informed decision-mak ing and\\nactive participation in addressing societal challenges [ 2]'),\n",
              " Document(metadata={'source': './data/Reimagining Data Visualization to Address Sustainability Goals.pdf', 'page': 2}, page_content='Advancing the ﬁeld of data visualization requires a commitm ent\\nto inclusivity and accessibility. It is notable that broade ning partic-\\nipation includes not only novices and the general public, bu t also\\ndomain experts and decision makers'),\n",
              " Document(metadata={'source': './data/Reimagining Data Visualization to Address Sustainability Goals.pdf', 'page': 2}, page_content='Our research shows that even\\nthese professionals can feel like visualization novices du e to a lack\\nof visual analytics expertise [ 16,23]'),\n",
              " Document(metadata={'source': './data/Reimagining Data Visualization to Address Sustainability Goals.pdf', 'page': 2}, page_content='They often request simple\\nvisualization techniques and interactive modes that allow them to\\noperate the system independently, without needing to deleg ate data\\nanalysis to analysts and data scientists'),\n",
              " Document(metadata={'source': './data/Reimagining Data Visualization to Address Sustainability Goals.pdf', 'page': 2}, page_content='Visualization ne eds to ad-\\ndress the diverse needs and capabilities of various stakeho lders byembracing new theoretical frameworks and methodologies'),\n",
              " Document(metadata={'source': './data/Reimagining Data Visualization to Address Sustainability Goals.pdf', 'page': 2}, page_content='B y do-\\ning so, we can create visualizations that engage and empower stake-\\nholders, enhance public understanding, and drive positive social\\nchange'),\n",
              " Document(metadata={'source': './data/Reimagining Data Visualization to Address Sustainability Goals.pdf', 'page': 2}, page_content='Future work should explore questions such as: What are the mo st\\neffective strategies for designing visualizations that ar e both com-\\nprehensible and engaging to diverse audiences? In ”Of Cours e It’s\\nPolitical” [ 2], we proposed ﬁve new dimensions to help designers\\nand researchers consider their design choices more diligen tly'),\n",
              " Document(metadata={'source': './data/Reimagining Data Visualization to Address Sustainability Goals.pdf', 'page': 2}, page_content='How-\\never, the paper was just the beginning, sparking a new philos ophy.\\nFurther research is needed to design and evaluate these tech niques\\nfor more concrete answers'),\n",
              " Document(metadata={'source': './data/Reimagining Data Visualization to Address Sustainability Goals.pdf', 'page': 2}, page_content='Other questions include: How can sto-\\nrytelling and narrative techniques be optimized to convey c omplex\\ndata in a way that resonates with different demographic grou ps?\\nWhat are the barriers to data literacy among different commu ni-\\nties, and how can visualization design help overcome these b arri-\\ners? and How can participatory design processes be implemen ted\\nto ensure that visualizations meet the needs of all stakehol ders, es-\\npecially marginalized groups?\\n3'),\n",
              " Document(metadata={'source': './data/Reimagining Data Visualization to Address Sustainability Goals.pdf', 'page': 2}, page_content='3 Promoting Emotional Resonance & Inclusive Dia-\\nlogue\\nEffective communication of environmental data requires co nsider-\\nation of the audience’s emotional responses'),\n",
              " Document(metadata={'source': './data/Reimagining Data Visualization to Address Sustainability Goals.pdf', 'page': 2}, page_content='Visualizatio ns that\\nevoke emotion or a sense of urgency can be more impactful than\\nthose that present data neutrally'),\n",
              " Document(metadata={'source': './data/Reimagining Data Visualization to Address Sustainability Goals.pdf', 'page': 2}, page_content='For instance, interacti ve tools that\\nallow users to visually see the future impacts of climate cha nge on\\ntheir own neighborhoods can elicit stronger emotional resp onses\\nand drive action [ 35]'),\n",
              " Document(metadata={'source': './data/Reimagining Data Visualization to Address Sustainability Goals.pdf', 'page': 2}, page_content='Some effective ways to communicate cli-\\nmate change data to the public include leveraging public art and\\naugmented reality'),\n",
              " Document(metadata={'source': './data/Reimagining Data Visualization to Address Sustainability Goals.pdf', 'page': 2}, page_content='Public art, with its engaging impact and univer-\\nsal accessibility, helps with raising awareness and foster ing public\\ndialogue'),\n",
              " Document(metadata={'source': './data/Reimagining Data Visualization to Address Sustainability Goals.pdf', 'page': 2}, page_content='For instance, RisingEMOTIONS is a data physicalization and\\npublic art project that we installed in East Boston in 2020 [ 1]'),\n",
              " Document(metadata={'source': './data/Reimagining Data Visualization to Address Sustainability Goals.pdf', 'page': 2}, page_content='Our\\ngoal was to engage communities affected by sea-level rise in plan-\\nning adaptation strategies and increase their involvement in these\\ncrucial processes'),\n",
              " Document(metadata={'source': './data/Reimagining Data Visualization to Address Sustainability Goals.pdf', 'page': 2}, page_content='This installation visually represents local projected ﬂoo d levels\\nand public emotions towards the threat of sea-level rise'),\n",
              " Document(metadata={'source': './data/Reimagining Data Visualization to Address Sustainability Goals.pdf', 'page': 2}, page_content='Pl acing\\nit in front of the East Boston Public Library, a prominent com mu-\\nnity hub, ensured high visibility and accessibility to all c ommu-\\nnity members. The project included an opening ceremony and r e-\\nmained on display for two weeks'),\n",
              " Document(metadata={'source': './data/Reimagining Data Visualization to Address Sustainability Goals.pdf', 'page': 2}, page_content='The strategic location play ed a\\nvital role in engaging community members, as it was installe d in\\nan open space'),\n",
              " Document(metadata={'source': './data/Reimagining Data Visualization to Address Sustainability Goals.pdf', 'page': 2}, page_content='Additionally, the installation was designed to be\\napproachable, allowing viewers to engage effortlessly reg ardless of\\nprior knowledge about public art'),\n",
              " Document(metadata={'source': './data/Reimagining Data Visualization to Address Sustainability Goals.pdf', 'page': 2}, page_content='The community’s engageme nt\\nwith our project demonstrated the potential for public art t o create\\ninterest and raise awareness of climate change'),\n",
              " Document(metadata={'source': './data/Reimagining Data Visualization to Address Sustainability Goals.pdf', 'page': 2}, page_content='Augmented reality (AR) enhances public understanding and e n-\\ngagement with climate change impacts by overlaying digital infor-\\nmation onto the real-world'),\n",
              " Document(metadata={'source': './data/Reimagining Data Visualization to Address Sustainability Goals.pdf', 'page': 2}, page_content='Leveraging AR technology, we co n-\\nducted the ﬁrst of its kind Communal eXtended Reality (CXR)\\nstudy aimed at providing immersive experiences to help peop le vi-\\nsualize the potential impacts of ﬂoods and encourage proact ive ac-\\ntion [ 35]'),\n",
              " Document(metadata={'source': './data/Reimagining Data Visualization to Address Sustainability Goals.pdf', 'page': 2}, page_content='We engaged 74 community members by inviting them to\\nride a local shuttle bus, utilizing public transportation a s a commu-\\nnal gathering space'),\n",
              " Document(metadata={'source': './data/Reimagining Data Visualization to Address Sustainability Goals.pdf', 'page': 2}, page_content='Equipped with VR Head-Mounted Display s\\n(HMDs), participants explored their neighborhood’s past a nd fu-\\nture, physically traversing the island to comprehend the ef fects of\\nclimate change over time'),\n",
              " Document(metadata={'source': './data/Reimagining Data Visualization to Address Sustainability Goals.pdf', 'page': 2}, page_content='Our study revealed several signiﬁ cant ad-\\nvantages of CXR. Firstly, its immersive and embodied nature made\\nclimate change more tangible and immediate to participants'),\n",
              " Document(metadata={'source': './data/Reimagining Data Visualization to Address Sustainability Goals.pdf', 'page': 2}, page_content='Sec-\\nondly, its situational elements brought the reality of clim ate impacts\\ncloser to their daily surroundings. Thirdly, the communal s etting of'),\n",
              " Document(metadata={'source': './data/Reimagining Data Visualization to Address Sustainability Goals.pdf', 'page': 3}, page_content='the experience emphasized community resilience and respon ses. A\\nstriking observation from this work was how the community as pect\\ntransformed negative emotions, such as hopelessness, into action-\\nable plans'),\n",
              " Document(metadata={'source': './data/Reimagining Data Visualization to Address Sustainability Goals.pdf', 'page': 3}, page_content='This work led to the development of a resiliency p lan\\nfor the neighborhood'),\n",
              " Document(metadata={'source': './data/Reimagining Data Visualization to Address Sustainability Goals.pdf', 'page': 3}, page_content='This is particularly important becau se re-\\nsearch has shown that the shocking and negative emotions eli cited\\nby confronting the harsh realities of climate change often d iscour-\\nage community members from further engagement with the subj ect'),\n",
              " Document(metadata={'source': './data/Reimagining Data Visualization to Address Sustainability Goals.pdf', 'page': 3}, page_content='Questions to further explore include: How can visualizatio ns ef-\\nfectively balance accuracy in depicting climate change dat a with\\nthe emotional engagement needed to prompt action without ov er-\\nwhelming or disengaging audiences? What are the most effec-\\ntive design strategies for creating public art installatio ns that fos-\\nter inclusive dialogue and community engagement around cli mate\\nchange impacts? How can augmented reality (AR) application s be\\noptimized to enhance public understanding of climate chang e im-\\npacts while ensuring accessibility and usability across di verse audi-\\nences? and What are the long-term effects of engaging commun i-\\nties through emotionally resonant visualizations, such as public art\\nand AR, on their attitudes and behaviors towards climate cha nge?\\n3'),\n",
              " Document(metadata={'source': './data/Reimagining Data Visualization to Address Sustainability Goals.pdf', 'page': 3}, page_content='4 Drawing from Other Fields to Build New Theories\\nDrawing on the ﬁelds of citizen sourcing, crowdsourcing, pa rtic-\\nipatory design, and asset-based design provides valuable i nsights\\ninto enhancing data visualization for societal challenges'),\n",
              " Document(metadata={'source': './data/Reimagining Data Visualization to Address Sustainability Goals.pdf', 'page': 3}, page_content='Citizen\\nsourcing emphasizes engaging communities in data collecti on and\\ndecision-making processes, ensuring local knowledge and p riori-\\nties are integrated into sustainability initiatives'),\n",
              " Document(metadata={'source': './data/Reimagining Data Visualization to Address Sustainability Goals.pdf', 'page': 3}, page_content='Crow dsourcing ex-\\ntends this concept by leveraging collective intelligence t o address\\ncomplex problems through collaborative data analysis and v isual-\\nization'),\n",
              " Document(metadata={'source': './data/Reimagining Data Visualization to Address Sustainability Goals.pdf', 'page': 3}, page_content='Participatory design emphasizes the active invol vement of\\nstakeholders in the design process, ensuring that visualiz ations are\\nrelevant, accessible, and actionable for diverse audience s'),\n",
              " Document(metadata={'source': './data/Reimagining Data Visualization to Address Sustainability Goals.pdf', 'page': 3}, page_content='Platforms that allow community members to contribute data a nd\\nvisualize their ﬁndings foster greater public engagement a nd own-\\nership of sustainability initiatives [ 17,20]'),\n",
              " Document(metadata={'source': './data/Reimagining Data Visualization to Address Sustainability Goals.pdf', 'page': 3}, page_content='For instance, Communi-\\ntyCrit ’s micro-activity workﬂow proved to be successful in provid -\\ning a complementary avenue and a new opportunity for communi ty\\nmembers and those who are not usually engaged (e.g'),\n",
              " Document(metadata={'source': './data/Reimagining Data Visualization to Address Sustainability Goals.pdf', 'page': 3}, page_content='g., family w ith\\nkids, working professionals) to provide meaningful feedba ck on ur-\\nban design in a short amount of time [ 20]'),\n",
              " Document(metadata={'source': './data/Reimagining Data Visualization to Address Sustainability Goals.pdf', 'page': 3}, page_content='When deployed in San\\nDiego, CommunityCrit surpassed the current community enga ge-\\nment approach by gathering 352 comments within four weeks of\\ndeployment'),\n",
              " Document(metadata={'source': './data/Reimagining Data Visualization to Address Sustainability Goals.pdf', 'page': 3}, page_content='Another example is visualizing crowd-sourced data\\non local wildlife sightings to track biodiversity and infor m conser-\\nvation efforts'),\n",
              " Document(metadata={'source': './data/Reimagining Data Visualization to Address Sustainability Goals.pdf', 'page': 3}, page_content='These grassroots visualizations not only d emocra-\\ntize data, but also enhance the credibility and reach of sust ainabil-\\nity campaigns [ 11]'),\n",
              " Document(metadata={'source': './data/Reimagining Data Visualization to Address Sustainability Goals.pdf', 'page': 3}, page_content='Another example is Chemicals in the Creek, a\\ncommunity-based situated data physicalization to enhance commu-\\nnity engagement with open government data [ 28]'),\n",
              " Document(metadata={'source': './data/Reimagining Data Visualization to Address Sustainability Goals.pdf', 'page': 3}, page_content='Asset-based design approaches represent a crucial method f or\\ncommunicating complex climate change data to the public [ 31,34]'),\n",
              " Document(metadata={'source': './data/Reimagining Data Visualization to Address Sustainability Goals.pdf', 'page': 3}, page_content='This approach shifts focus to community strengths and resou rces,\\nutilizing local assets to promote sustainable development and re-\\nsilience planning'),\n",
              " Document(metadata={'source': './data/Reimagining Data Visualization to Address Sustainability Goals.pdf', 'page': 3}, page_content='Integrating principles, theories, and frameworks\\nfrom the aforementioned ﬁelds into data visualization prac tices can\\nresult in more inclusive, effective, and empowering visual izations'),\n",
              " Document(metadata={'source': './data/Reimagining Data Visualization to Address Sustainability Goals.pdf', 'page': 3}, page_content='Such approaches not only enhance communication and underst and-\\ning but also foster a sense of ownership and collective respo nsibility\\ntoward sustainability challenges'),\n",
              " Document(metadata={'source': './data/Reimagining Data Visualization to Address Sustainability Goals.pdf', 'page': 3}, page_content='4 C ONCLUSION\\nIn conclusion, reimagining the ﬁeld of information visuali zation to\\naddress sustainability goals requires a multifaceted appr oach that\\nprioritizes community engagement'),\n",
              " Document(metadata={'source': './data/Reimagining Data Visualization to Address Sustainability Goals.pdf', 'page': 3}, page_content='By integrating emotion al reso-\\nnance, inclusivity, and participatory frameworks, we can c reate vi-sualizations that not only present data but also connect wit h broad\\naudiences on a deeper level'),\n",
              " Document(metadata={'source': './data/Reimagining Data Visualization to Address Sustainability Goals.pdf', 'page': 3}, page_content='This connection fosters inform ed di-\\nalogue, empowers communities to inﬂuence policies, and dri ves\\ncollective action. Additionally, understanding the epist emology of\\ndata visualization is crucial'),\n",
              " Document(metadata={'source': './data/Reimagining Data Visualization to Address Sustainability Goals.pdf', 'page': 3}, page_content='This involves recognizing h ow infor-\\nmation is constructed, processed, selected, validated, an d commu-\\nnicated through visual means, which shapes our perception a nd in-\\nteraction with data'),\n",
              " Document(metadata={'source': './data/Reimagining Data Visualization to Address Sustainability Goals.pdf', 'page': 3}, page_content='By reﬂecting on the historical and phil osophi-\\ncal dimensions of visualization, we can better address its l imitations\\nand opportunities for further expansions'),\n",
              " Document(metadata={'source': './data/Reimagining Data Visualization to Address Sustainability Goals.pdf', 'page': 3}, page_content='Emphasizing the design\\nand development of visualizations with target audiences in mind,\\nand drawing insights from interdisciplinary research, wil l ensure\\nthat visualization is effective in bridging gaps, promotin g under-\\nstanding, and facilitating meaningful engagement'),\n",
              " Document(metadata={'source': './data/Reimagining Data Visualization to Address Sustainability Goals.pdf', 'page': 3}, page_content='Ultima tely, this\\nmodern, integrated perspective on data visualization can s erve as\\na powerful catalyst for social empowerment and positive cha nge,\\npaving the way for a more sustainable and resilient future.\\nREFERENCES\\n[1] C. Arag´ on, M'),\n",
              " Document(metadata={'source': './data/Reimagining Data Visualization to Address Sustainability Goals.pdf', 'page': 3}, page_content='REFERENCES\\n[1] C. Arag´ on, M. Jasim, and N. Mahyar. Risingemotions: Bri dging art\\nand technology to visualize public’s emotions about climat e change.\\nInCreativity and Cognition , pp. 1–10, 2021. 1,3\\n[2] E. P. Baumer, M. Jasim, A. Sarvghad, and N'),\n",
              " Document(metadata={'source': './data/Reimagining Data Visualization to Address Sustainability Goals.pdf', 'page': 3}, page_content='P. Baumer, M. Jasim, A. Sarvghad, and N. Mahyar. Of cour se it’s\\npolitical! a critical inquiry into underemphasized dimens ions in civic\\ntext visualization. In Computer Graphics Forum , vol. 41, pp. 1–14.\\nWiley Online Library, 2022. 1,2,3\\n[3] A'),\n",
              " Document(metadata={'source': './data/Reimagining Data Visualization to Address Sustainability Goals.pdf', 'page': 3}, page_content='1–14.\\nWiley Online Library, 2022. 1,2,3\\n[3] A. Burns, C. Lee, R. Chawla, E. Peck, and N. Mahyar. Who do w e\\nmean when we talk about visualization novices? In Proceedings of\\nthe 2023 CHI Conference on Human Factors in Computing System s,\\npp'),\n",
              " Document(metadata={'source': './data/Reimagining Data Visualization to Address Sustainability Goals.pdf', 'page': 3}, page_content='1–16, 2023. 1,2,3\\n[4] A. Burns, C. Xiong, S. Franconeri, A. Cairo, and N. Mahyar . How to\\nevaluate data visualizations across different levels of un derstanding'),\n",
              " Document(metadata={'source': './data/Reimagining Data Visualization to Address Sustainability Goals.pdf', 'page': 3}, page_content='In2020 IEEE Workshop on Evaluation and Beyond-Methodologica l\\nApproaches to Visualization (BELIV) , pp. 19–28. IEEE, 2020. 1,2\\n[5] A. Burns, C. Xiong, S. Franconeri, A. Cairo, and N. Mahyar'),\n",
              " Document(metadata={'source': './data/Reimagining Data Visualization to Address Sustainability Goals.pdf', 'page': 3}, page_content='Xiong, S. Franconeri, A. Cairo, and N. Mahyar . De-\\nsigning with pictographs: Envision topics without sacriﬁc ing under-\\nstanding. IEEE transactions on visualization and computer graphics ,\\n28(12):4515–4530, 2021. 1\\n[6] S. K. Card, J'),\n",
              " Document(metadata={'source': './data/Reimagining Data Visualization to Address Sustainability Goals.pdf', 'page': 3}, page_content='1\\n[6] S. K. Card, J. Mackinlay, and B. Shneiderman. Readings in informa-\\ntion visualization: using vision to think . Morgan Kaufmann, 1999.\\n1\\n[7] M. Correll. Ethical dimensions of visualization resear ch'),\n",
              " Document(metadata={'source': './data/Reimagining Data Visualization to Address Sustainability Goals.pdf', 'page': 3}, page_content='Ethical dimensions of visualization resear ch. In Pro-\\nceedings of the 2019 CHI conference on human factors in compu ting\\nsystems , pp. 1–13, 2019. 2\\n[8] C. D’ignazio and L. F. Klein. Data feminism . MIT press, 2023. 2\\n[9] M. D¨ ork, P. Feng, C'),\n",
              " Document(metadata={'source': './data/Reimagining Data Visualization to Address Sustainability Goals.pdf', 'page': 3}, page_content='MIT press, 2023. 2\\n[9] M. D¨ ork, P. Feng, C. Collins, and S. Carpendale. Critica l infovis:\\nexploring the politics of visualization. In CHI’13 Extended Abstracts\\non Human Factors in Computing Systems , pp. 2189–2198. 2013. 2\\n[10] M'),\n",
              " Document(metadata={'source': './data/Reimagining Data Visualization to Address Sustainability Goals.pdf', 'page': 3}, page_content='2189–2198. 2013. 2\\n[10] M. Engebretsen and H. Kennedy. Data visualization in society . Ams-\\nterdam University Press, 2020. 2\\n[11] P. B. English, M. J. Richardson, and C. Garz´ on-Galvis'),\n",
              " Document(metadata={'source': './data/Reimagining Data Visualization to Address Sustainability Goals.pdf', 'page': 3}, page_content='English, M. J. Richardson, and C. Garz´ on-Galvis. From crowd-\\nsourcing to extreme citizen science: participatory resear ch for envi-\\nronmental health. Annual review of public health , 39(1):335–350,\\n2018. 4\\n[12] S. Few'),\n",
              " Document(metadata={'source': './data/Reimagining Data Visualization to Address Sustainability Goals.pdf', 'page': 3}, page_content='4\\n[12] S. Few. Information dashboard design: The effective visual commu-\\nnication of data . O’Reilly Media, Inc., 2006. 1\\n[13] J. Hullman and N. Diakopoulos. Visualization rhetoric : Framing ef-\\nfects in narrative visualization'),\n",
              " Document(metadata={'source': './data/Reimagining Data Visualization to Address Sustainability Goals.pdf', 'page': 3}, page_content='IEEE transactions on visualization\\nand computer graphics , 17(12):2231–2240, 2011. 2\\n[14] P. Isenberg. Collaborative information visualizatio n in co-located en-\\nvironments. 2009. 2\\n[15] M. Jasim, C. Collins, A. Sarvghad, and N. Mahyar'),\n",
              " Document(metadata={'source': './data/Reimagining Data Visualization to Address Sustainability Goals.pdf', 'page': 3}, page_content='Jasim, C. Collins, A. Sarvghad, and N. Mahyar. Suppor ting\\nserendipitous discovery and balanced analysis of online pr oduct re-\\nviews with interaction-driven metrics and bias-mitigatin g suggestions'),\n",
              " Document(metadata={'source': './data/Reimagining Data Visualization to Address Sustainability Goals.pdf', 'page': 3}, page_content='InProceedings of the 2022 CHI Conference on Human Factors in\\nComputing Systems , pp. 1–24, 2022. 1\\n[16] M. Jasim, E. Hoque, A. Sarvghad, and N. Mahyar. Communit ypulse:\\nFacilitating community input analysis by surfacing hidden insights,'),\n",
              " Document(metadata={'source': './data/Reimagining Data Visualization to Address Sustainability Goals.pdf', 'page': 4}, page_content='reﬂections, and priorities. In Proceedings of the 2021 ACM Designing\\nInteractive Systems Conference , pp. 846–863, 2021. 1,3\\n[17] M. Jasim, P. Khaloo, S. Wadhwa, A. X. Zhang, A. Sarvghad, and\\nN. Mahyar'),\n",
              " Document(metadata={'source': './data/Reimagining Data Visualization to Address Sustainability Goals.pdf', 'page': 4}, page_content='Wadhwa, A. X. Zhang, A. Sarvghad, and\\nN. Mahyar. Communityclick: Capturing and reporting commun ity\\nfeedback from town halls to improve inclusivity. Proceedings of the\\nACM on Human-Computer Interaction , 4(CSCW3):1–32, 2021. 1,4\\n[18] N. Mahyar'),\n",
              " Document(metadata={'source': './data/Reimagining Data Visualization to Address Sustainability Goals.pdf', 'page': 4}, page_content='1,4\\n[18] N. Mahyar. Supporting sensemaking during collocated collaborative\\nvisual analytics . PhD thesis, 2014. 2\\n[19] N. Mahyar, K. J. Burke, J. Xiang, S. Meng, K. S. Booth, C. L . Girling,\\nand R. W. Kellett'),\n",
              " Document(metadata={'source': './data/Reimagining Data Visualization to Address Sustainability Goals.pdf', 'page': 4}, page_content='S. Booth, C. L . Girling,\\nand R. W. Kellett. Ud co-spaces: A table-centred multi-disp lay en-\\nvironment for public engagement in urban design charrettes'),\n",
              " Document(metadata={'source': './data/Reimagining Data Visualization to Address Sustainability Goals.pdf', 'page': 4}, page_content='In Pro-\\nceedings of the 2016 ACM international conference on intera ctive sur-\\nfaces and spaces , pp. 109–118, 2016. 1\\n[20] N. Mahyar, M. R. James, M. M. Ng, R. A. Wu, and S. P. Dow'),\n",
              " Document(metadata={'source': './data/Reimagining Data Visualization to Address Sustainability Goals.pdf', 'page': 4}, page_content='R. James, M. M. Ng, R. A. Wu, and S. P. Dow. Com -\\nmunitycrit: inviting the public to improve and evaluate urb an design\\nideas through micro-activities. In Proceedings of the 2018 CHI Con-\\nference on Human Factors in Computing Systems , pp'),\n",
              " Document(metadata={'source': './data/Reimagining Data Visualization to Address Sustainability Goals.pdf', 'page': 4}, page_content='1–14, 2018. 1,\\n4\\n[21] N. Mahyar, M. Jasim, and A. Sarvghad. Designing technol ogy for\\nsociotechnical problems: challenges and considerations. IEEE Com-\\nputer Graphics and Applications , 40(6):76–87, 2020. 1,2\\n[22] N. Mahyar, S.-H. Kim, and B. C'),\n",
              " Document(metadata={'source': './data/Reimagining Data Visualization to Address Sustainability Goals.pdf', 'page': 4}, page_content='1,2\\n[22] N. Mahyar, S.-H. Kim, and B. C. Kwon. Towards a taxonomy f or\\nevaluating user engagement in information visualization. InWorkshop\\non Personal Visualization: Exploring Everyday Life , vol. 3, 2015. 3\\n[23] N. Mahyar, D. V . Nguyen, M. Chan, J'),\n",
              " Document(metadata={'source': './data/Reimagining Data Visualization to Address Sustainability Goals.pdf', 'page': 4}, page_content='3\\n[23] N. Mahyar, D. V . Nguyen, M. Chan, J. Zheng, and S. P. Dow. T he civic\\ndata deluge: Understanding the challenges of analyzing lar ge-scale\\ncommunity input. In Proceedings of the 2019 on Designing Interactive\\nSystems Conference , pp'),\n",
              " Document(metadata={'source': './data/Reimagining Data Visualization to Address Sustainability Goals.pdf', 'page': 4}, page_content='1171–1181, 2019. 1,3\\n[24] G. Mark. Attention span: A groundbreaking way to restore balance,\\nhappiness and productivity . Harlequin, 2023. 2\\n[25] D. McCandless. Information is beautiful . Collins London, 2012. 1\\n[26] T. Munzner'),\n",
              " Document(metadata={'source': './data/Reimagining Data Visualization to Address Sustainability Goals.pdf', 'page': 4}, page_content='Collins London, 2012. 1\\n[26] T. Munzner. Visualization analysis and design . CRC press, 2014. 1[27] E. M. Peck, S. E. Ayuso, and O. El-Etr. Data is personal: A ttitudes and\\nperceptions of data visualization in rural pennsylvania'),\n",
              " Document(metadata={'source': './data/Reimagining Data Visualization to Address Sustainability Goals.pdf', 'page': 4}, page_content='I nProceedings\\nof the 2019 CHI Conference on Human Factors in Computing Syst ems,\\npp. 1–12, 2019. 3\\n[28] L. J. Perovich, S. A. Wylie, and R. Bongiovanni'),\n",
              " Document(metadata={'source': './data/Reimagining Data Visualization to Address Sustainability Goals.pdf', 'page': 4}, page_content='J. Perovich, S. A. Wylie, and R. Bongiovanni. Chemica ls in the\\ncreek: designing a situated data physicalization of open go vernment\\ndata with the community. IEEE Transactions on Visualization and\\nComputer Graphics , 27(2):913–923, 2020. 4\\n[29] B'),\n",
              " Document(metadata={'source': './data/Reimagining Data Visualization to Address Sustainability Goals.pdf', 'page': 4}, page_content='4\\n[29] B. Reynante, S. P. Dow, and N. Mahyar. A framework for ope n civic\\ndesign: Integrating public participation, crowdsourcing , and design\\nthinking. Digital Government: Research and Practice , 2(4):1–22,\\n2021. 1\\n[30] E. R. Tufte and P. R'),\n",
              " Document(metadata={'source': './data/Reimagining Data Visualization to Address Sustainability Goals.pdf', 'page': 4}, page_content='1\\n[30] E. R. Tufte and P. R. Graves-Morris. The visual display of quantitative\\ninformation , vol. 2. Graphics press Cheshire, CT, 1983. 1\\n[31] N. E. Turner and R. D. Pinkett. An asset-based approach t o community\\nbuilding and community technology'),\n",
              " Document(metadata={'source': './data/Reimagining Data Visualization to Address Sustainability Goals.pdf', 'page': 4}, page_content='In Shaping the Network Society:\\nThe Future of the Public Sphere in Cyberspace, Directions an d Im-\\nplications of Advanced Computing Symposium , pp. 20–23. Citeseer,\\n2000. 4\\n[32] F. Viegas and M. Wattenberg. How to make data look sexy. CNN'),\n",
              " Document(metadata={'source': './data/Reimagining Data Visualization to Address Sustainability Goals.pdf', 'page': 4}, page_content='Wattenberg. How to make data look sexy. CNN.\\ncom, especial Digital Biz , 19, 2011. 2\\n[33] C. Ware. Information visualization: perception for design . Morgan\\nKaufmann, 2019. 1\\n[34] M. Wong-Villacres, C. DiSalvo, N. Kumar, and B. DiSalvo'),\n",
              " Document(metadata={'source': './data/Reimagining Data Visualization to Address Sustainability Goals.pdf', 'page': 4}, page_content='DiSalvo, N. Kumar, and B. DiSalvo . Culture\\nin action: Unpacking capacities to inform assets-based des ign. In Pro-\\nceedings of the 2020 CHI Conference on Human Factors in Compu t-\\ning Systems , pp. 1–14, 2020. 4\\n[35] S. Yavo-Ayalon, S. Joshi, Y'),\n",
              " Document(metadata={'source': './data/Reimagining Data Visualization to Address Sustainability Goals.pdf', 'page': 4}, page_content='1–14, 2020. 4\\n[35] S. Yavo-Ayalon, S. Joshi, Y . Zhang, R. Han, N. Mahyar, an d\\nW. Ju. Building community resiliency through immersive com mu-\\nnal extended reality (cxr). Multimodal Technologies and Interaction ,\\n7(5):43, 2023. 1,3')]"
            ]
          },
          "metadata": {},
          "execution_count": 27
        }
      ]
    },
    {
      "cell_type": "code",
      "source": [
        "#Turn the chunks into embeddings and store them in Chroma\n",
        "vectordb=Chroma.from_documents(pages,embeddings)"
      ],
      "metadata": {
        "id": "TePyfs6LlVQJ"
      },
      "execution_count": 13,
      "outputs": []
    },
    {
      "cell_type": "code",
      "source": [
        "#Configure Chroma as a retriever with top_k=5\n",
        "retriever = vectordb.as_retriever(search_kwargs={\"k\": 5})"
      ],
      "metadata": {
        "id": "RXzQKgmylWbh"
      },
      "execution_count": 14,
      "outputs": []
    },
    {
      "cell_type": "code",
      "source": [
        "#Create the retrieval chain\n",
        "template = \"\"\"\n",
        "You are a helpful AI assistant.\n",
        "Answer based on the context provided.\n",
        "context: {context}\n",
        "input: {input}\n",
        "answer:\n",
        "\"\"\""
      ],
      "metadata": {
        "id": "nws8IbnAlYRW"
      },
      "execution_count": 15,
      "outputs": []
    },
    {
      "cell_type": "code",
      "source": [
        "prompt = PromptTemplate.from_template(template)\n",
        "combine_docs_chain = create_stuff_documents_chain(llm, prompt)\n",
        "retrieval_chain = create_retrieval_chain(retriever, combine_docs_chain)"
      ],
      "metadata": {
        "id": "TZwZ14lMlZu7"
      },
      "execution_count": 16,
      "outputs": []
    },
    {
      "cell_type": "code",
      "source": [
        "#Invoke the retrieval chain\n",
        "response=retrieval_chain.invoke({\"input\":\"what is NIMBY \"})"
      ],
      "metadata": {
        "id": "rxx9_ToDlbD5"
      },
      "execution_count": 23,
      "outputs": []
    },
    {
      "cell_type": "code",
      "source": [
        "#Print the answer to the question\n",
        "print(response[\"answer\"])"
      ],
      "metadata": {
        "colab": {
          "base_uri": "https://localhost:8080/"
        },
        "id": "oZx5SKySlcOU",
        "outputId": "7e502dfb-e9dc-4664-e5fb-1f30ad2b6db4"
      },
      "execution_count": 24,
      "outputs": [
        {
          "output_type": "stream",
          "name": "stdout",
          "text": [
            "NIMBY is an acronym that stands for \"Not In My Backyard.\" It refers to a common phenomenon in urban planning where residents oppose new developments or changes that they perceive as negative, even if they may benefit the community as a whole.\n"
          ]
        }
      ]
    },
    {
      "cell_type": "code",
      "source": [],
      "metadata": {
        "id": "uc2gPX2zzo2Q"
      },
      "execution_count": null,
      "outputs": []
    }
  ]
}